{
 "cells": [
  {
   "cell_type": "markdown",
   "metadata": {},
   "source": [
    "# Equine Microbiome Reporter Tutorial\n",
    "\n",
    "This tutorial will guide you through using the Equine Microbiome Reporter to generate professional PDF reports from 16S rRNA sequencing data.\n",
    "\n",
    "## Table of Contents\n",
    "1. [Setup and Installation](#setup)\n",
    "2. [Understanding the Data Format](#data-format)\n",
    "3. [Basic PDF Generation](#basic-pdf)\n",
    "4. [Advanced Polish Laboratory Reports](#advanced-pdf)\n",
    "5. [Batch Processing](#batch-processing)\n",
    "6. [Customization Options](#customization)\n",
    "7. [Troubleshooting](#troubleshooting)"
   ]
  },
  {
   "cell_type": "markdown",
   "metadata": {},
   "source": [
    "<a id='setup'></a>\n",
    "## 1. Setup and Installation\n",
    "\n",
    "First, let's ensure all required dependencies are installed and import the necessary modules."
   ]
  },
  {
   "cell_type": "code",
   "execution_count": 1,
   "metadata": {},
   "outputs": [
    {
     "name": "stdout",
     "output_type": "stream",
     "text": [
      "All modules imported successfully!\n"
     ]
    }
   ],
   "source": [
    "# Import required libraries\n",
    "import pandas as pd\n",
    "import matplotlib.pyplot as plt\n",
    "import numpy as np\n",
    "from pathlib import Path\n",
    "import sys\n",
    "import os\n",
    "\n",
    "# Add the project directory to Python path\n",
    "sys.path.append(os.path.dirname(os.path.abspath('')))\n",
    "\n",
    "# Import our custom modules\n",
    "from pdf_generator import MicrobiomeReportGenerator\n",
    "from advanced_pdf_generator import AdvancedMicrobiomeReportGenerator\n",
    "from batch_processor import BatchReportProcessor\n",
    "\n",
    "print(\"All modules imported successfully!\")"
   ]
  },
  {
   "cell_type": "code",
   "execution_count": 2,
   "metadata": {},
   "outputs": [
    {
     "name": "stdout",
     "output_type": "stream",
     "text": [
      "Created directory: data\n",
      "Created directory: reports\n",
      "Created directory: temp\n"
     ]
    }
   ],
   "source": [
    "# Create necessary directories\n",
    "directories = ['data', 'reports', 'temp']\n",
    "for directory in directories:\n",
    "    Path(directory).mkdir(exist_ok=True)\n",
    "    print(f\"Created directory: {directory}\")"
   ]
  },
  {
   "cell_type": "markdown",
   "metadata": {},
   "source": [
    "<a id='data-format'></a>\n",
    "## 2. Understanding the Data Format\n",
    "\n",
    "The microbiome data should be in CSV format with specific columns. Let's examine the real data file from the project to understand the structure."
   ]
  },
  {
   "cell_type": "code",
   "execution_count": 3,
   "metadata": {},
   "outputs": [
    {
     "name": "stdout",
     "output_type": "stream",
     "text": [
      "Data shape: (169, 47)\n",
      "\n",
      "Columns in the dataset:\n",
      "Species column: species\n",
      "Barcode columns: ['barcode45', 'barcode46', 'barcode47', 'barcode48', 'barcode50', 'barcode51', 'barcode52', 'barcode53', 'barcode54', 'barcode55']...\n",
      "Taxonomy columns: ['phylum', 'class', 'order', 'family', 'genus']\n",
      "\n",
      "First 5 species in the dataset:\n"
     ]
    },
    {
     "data": {
      "text/html": [
       "<div>\n",
       "<style scoped>\n",
       "    .dataframe tbody tr th:only-of-type {\n",
       "        vertical-align: middle;\n",
       "    }\n",
       "\n",
       "    .dataframe tbody tr th {\n",
       "        vertical-align: top;\n",
       "    }\n",
       "\n",
       "    .dataframe thead th {\n",
       "        text-align: right;\n",
       "    }\n",
       "</style>\n",
       "<table border=\"1\" class=\"dataframe\">\n",
       "  <thead>\n",
       "    <tr style=\"text-align: right;\">\n",
       "      <th></th>\n",
       "      <th>species</th>\n",
       "      <th>barcode59</th>\n",
       "      <th>phylum</th>\n",
       "      <th>genus</th>\n",
       "    </tr>\n",
       "  </thead>\n",
       "  <tbody>\n",
       "    <tr>\n",
       "      <th>0</th>\n",
       "      <td>Streptomyces albidoflavus</td>\n",
       "      <td>27</td>\n",
       "      <td>Actinomycetota</td>\n",
       "      <td>Streptomyces</td>\n",
       "    </tr>\n",
       "    <tr>\n",
       "      <th>1</th>\n",
       "      <td>Streptomyces laculatispora</td>\n",
       "      <td>0</td>\n",
       "      <td>Actinomycetota</td>\n",
       "      <td>Streptomyces</td>\n",
       "    </tr>\n",
       "    <tr>\n",
       "      <th>2</th>\n",
       "      <td>Streptomyces sp. NBC_01685</td>\n",
       "      <td>16</td>\n",
       "      <td>Actinomycetota</td>\n",
       "      <td>Streptomyces</td>\n",
       "    </tr>\n",
       "    <tr>\n",
       "      <th>3</th>\n",
       "      <td>Cellulomonas chengniuliangii</td>\n",
       "      <td>0</td>\n",
       "      <td>Actinomycetota</td>\n",
       "      <td>Cellulomonas</td>\n",
       "    </tr>\n",
       "    <tr>\n",
       "      <th>4</th>\n",
       "      <td>Oerskovia sp. KBS0722</td>\n",
       "      <td>0</td>\n",
       "      <td>Actinomycetota</td>\n",
       "      <td>Oerskovia</td>\n",
       "    </tr>\n",
       "  </tbody>\n",
       "</table>\n",
       "</div>"
      ],
      "text/plain": [
       "                        species  barcode59          phylum         genus\n",
       "0     Streptomyces albidoflavus         27  Actinomycetota  Streptomyces\n",
       "1    Streptomyces laculatispora          0  Actinomycetota  Streptomyces\n",
       "2    Streptomyces sp. NBC_01685         16  Actinomycetota  Streptomyces\n",
       "3  Cellulomonas chengniuliangii          0  Actinomycetota  Cellulomonas\n",
       "4         Oerskovia sp. KBS0722          0  Actinomycetota     Oerskovia"
      ]
     },
     "execution_count": 3,
     "metadata": {},
     "output_type": "execute_result"
    }
   ],
   "source": [
    "# Load the real microbiome data\n",
    "real_data_file = 'data/25_04_23 bact.csv'\n",
    "df = pd.read_csv(real_data_file)\n",
    "\n",
    "# Display basic information about the data\n",
    "print(f\"Data shape: {df.shape}\")\n",
    "print(f\"\\nColumns in the dataset:\")\n",
    "print(f\"Species column: {df.columns[0]}\")\n",
    "print(f\"Barcode columns: {[col for col in df.columns if 'barcode' in col][:10]}...\")\n",
    "print(f\"Taxonomy columns: {[col for col in df.columns if col in ['phylum', 'genus', 'family', 'class', 'order']]}\")\n",
    "\n",
    "# Display first few rows\n",
    "print(\"\\nFirst 5 species in the dataset:\")\n",
    "df[['species', 'barcode59', 'phylum', 'genus']].head()"
   ]
  },
  {
   "cell_type": "code",
   "execution_count": 4,
   "metadata": {},
   "outputs": [
    {
     "name": "stdout",
     "output_type": "stream",
     "text": [
      "Analyzing barcode59 data:\n",
      "\n",
      "Number of species detected in barcode59: 17\n",
      "Total bacterial count in barcode59: 184\n",
      "\n",
      "Top 10 species in barcode59:\n",
      "                     species  barcode59  percentage         phylum\n",
      "         Acinetobacter lanii         46       25.00 Pseudomonadota\n",
      "   Streptomyces albidoflavus         27       14.67 Actinomycetota\n",
      "  Streptomyces sp. NBC_01685         16        8.70 Actinomycetota\n",
      "     Glutamicibacter sp. M10         14        7.61 Actinomycetota\n",
      "     Lysinibacillus sp. 2017         14        7.61      Bacillota\n",
      "        Arthrobacter citreus         11        5.98 Actinomycetota\n",
      "Solibacillus sp. FSL H8-0523         10        5.43      Bacillota\n",
      "       Streptococcus equinus         10        5.43      Bacillota\n",
      "        Pseudomonas saxonica          8        4.35 Pseudomonadota\n",
      "      Acinetobacter wanghuae          7        3.80 Pseudomonadota\n"
     ]
    }
   ],
   "source": [
    "# Let's analyze barcode59 specifically (Montana's sample)\n",
    "barcode_col = 'barcode59'\n",
    "print(f\"Analyzing {barcode_col} data:\")\n",
    "\n",
    "# Filter for species with non-zero counts\n",
    "species_with_counts = df[df[barcode_col] > 0].copy()\n",
    "print(f\"\\nNumber of species detected in {barcode_col}: {len(species_with_counts)}\")\n",
    "\n",
    "# Calculate total count\n",
    "total_count = species_with_counts[barcode_col].sum()\n",
    "print(f\"Total bacterial count in {barcode_col}: {total_count}\")\n",
    "\n",
    "# Calculate percentages\n",
    "species_with_counts['percentage'] = (species_with_counts[barcode_col] / total_count * 100).round(2)\n",
    "\n",
    "# Show top 10 species\n",
    "print(f\"\\nTop 10 species in {barcode_col}:\")\n",
    "top_species = species_with_counts.nlargest(10, 'percentage')[['species', barcode_col, 'percentage', 'phylum']]\n",
    "print(top_species.to_string(index=False))"
   ]
  },
  {
   "cell_type": "markdown",
   "metadata": {},
   "source": [
    "### Exploring the Data Structure\n",
    "\n",
    "Let's examine the key components of our microbiome data:"
   ]
  },
  {
   "cell_type": "code",
   "execution_count": 5,
   "metadata": {},
   "outputs": [
    {
     "name": "stdout",
     "output_type": "stream",
     "text": [
      "Phylum distribution for barcode59:\n",
      "Actinomycetota: 38.04%\n",
      "Pseudomonadota: 34.24%\n",
      "Bacillota: 24.46%\n",
      "Bacteroidota: 2.17%\n",
      "Gemmatimonadota: 1.09%\n"
     ]
    },
    {
     "name": "stderr",
     "output_type": "stream",
     "text": [
      "/tmp/ipykernel_266573/616865322.py:25: UserWarning: FigureCanvasAgg is non-interactive, and thus cannot be shown\n",
      "  plt.show()\n"
     ]
    }
   ],
   "source": [
    "# Analyze phylum distribution for barcode59\n",
    "barcode_col = 'barcode59'\n",
    "\n",
    "# Filter for non-zero counts\n",
    "df_filtered = df[df[barcode_col] > 0].copy()\n",
    "\n",
    "# Calculate phylum distribution\n",
    "phylum_dist = df_filtered.groupby('phylum')[barcode_col].sum()\n",
    "total_count = phylum_dist.sum()\n",
    "phylum_pct = (phylum_dist / total_count * 100).round(2).sort_values(ascending=False)\n",
    "\n",
    "print(f\"Phylum distribution for {barcode_col}:\")\n",
    "for phylum, pct in phylum_pct.items():\n",
    "    print(f\"{phylum}: {pct}%\")\n",
    "\n",
    "# Visualize phylum distribution\n",
    "plt.figure(figsize=(10, 6))\n",
    "colors = ['#4CAF50', '#FF5722', '#00BCD4', '#9C27B0', '#00E5FF', '#FFC107', '#795548']\n",
    "phylum_pct.head(7).plot(kind='bar', color=colors[:len(phylum_pct.head(7))])\n",
    "plt.title(f'Phylum Distribution in {barcode_col} (Montana)')\n",
    "plt.xlabel('Phylum')\n",
    "plt.ylabel('Percentage (%)')\n",
    "plt.xticks(rotation=45, ha='right')\n",
    "plt.tight_layout()\n",
    "plt.show()"
   ]
  },
  {
   "cell_type": "code",
   "execution_count": 6,
   "metadata": {},
   "outputs": [
    {
     "name": "stdout",
     "output_type": "stream",
     "text": [
      "Phylum distribution:\n",
      "Actinomycetota: 38.04%\n",
      "Bacillota: 24.46%\n",
      "Bacteroidota: 2.17%\n",
      "Fibrobacterota: 0.0%\n",
      "Gemmatimonadota: 1.09%\n",
      "Mycoplasmatota: 0.0%\n",
      "Pseudomonadota: 34.24%\n",
      "Spirochaetota: 0.0%\n"
     ]
    },
    {
     "name": "stderr",
     "output_type": "stream",
     "text": [
      "/tmp/ipykernel_266573/3381612378.py:17: UserWarning: FigureCanvasAgg is non-interactive, and thus cannot be shown\n",
      "  plt.show()\n"
     ]
    }
   ],
   "source": [
    "# Analyze phylum distribution\n",
    "phylum_dist = df.groupby('phylum')['barcode59'].sum()\n",
    "phylum_pct = (phylum_dist / total_count * 100).round(2)\n",
    "\n",
    "print(\"Phylum distribution:\")\n",
    "for phylum, pct in phylum_pct.items():\n",
    "    print(f\"{phylum}: {pct}%\")\n",
    "\n",
    "# Visualize phylum distribution\n",
    "plt.figure(figsize=(8, 6))\n",
    "phylum_pct.plot(kind='bar', color=['#4CAF50', '#FF5722', '#00BCD4', '#9C27B0', '#00E5FF'])\n",
    "plt.title('Phylum Distribution in Microbiome Sample')\n",
    "plt.xlabel('Phylum')\n",
    "plt.ylabel('Percentage (%)')\n",
    "plt.xticks(rotation=45)\n",
    "plt.tight_layout()\n",
    "plt.show()"
   ]
  },
  {
   "cell_type": "markdown",
   "metadata": {},
   "source": [
    "<a id='basic-pdf'></a>\n",
    "## 3. Basic PDF Generation\n",
    "\n",
    "Let's start with generating a basic PDF report using the simple generator."
   ]
  },
  {
   "cell_type": "code",
   "execution_count": 7,
   "metadata": {},
   "outputs": [
    {
     "name": "stdout",
     "output_type": "stream",
     "text": [
      "Error: CSV file not found at 25_04_23 bact.csv\n",
      "Basic report generated: reports/basic_montana_report.pdf\n"
     ]
    }
   ],
   "source": [
    "# Create a basic report generator using the real data\n",
    "basic_generator = MicrobiomeReportGenerator('25_04_23 bact.csv', 'barcode59')\n",
    "\n",
    "# Generate basic report\n",
    "basic_generator.generate_report('reports/basic_montana_report.pdf')\n",
    "\n",
    "print(\"Basic report generated: reports/basic_montana_report.pdf\")"
   ]
  },
  {
   "cell_type": "markdown",
   "metadata": {},
   "source": [
    "<a id='advanced-pdf'></a>\n",
    "## 4. Advanced Polish Laboratory Reports\n",
    "\n",
    "Now let's create a professional laboratory report in Polish format with patient information."
   ]
  },
  {
   "cell_type": "code",
   "execution_count": 8,
   "metadata": {},
   "outputs": [
    {
     "name": "stdout",
     "output_type": "stream",
     "text": [
      "Report generated successfully: reports/montana_advanced_report.pdf\n",
      "Advanced report generated: reports/montana_advanced_report.pdf\n"
     ]
    }
   ],
   "source": [
    "# Define patient information for Montana\n",
    "patient_info = {\n",
    "    'name': 'Montana',\n",
    "    'species': 'Koń',\n",
    "    'age': '20 lat',\n",
    "    'sample_number': '506',\n",
    "    'date_received': '07.05.2025 r.',\n",
    "    'performed_by': 'Julia Kończak',\n",
    "    'requested_by': 'Aleksandra Matusiak'\n",
    "}\n",
    "\n",
    "# Create advanced report generator with real data\n",
    "advanced_generator = AdvancedMicrobiomeReportGenerator('data/25_04_23 bact.csv', 'barcode59')\n",
    "\n",
    "# Generate advanced report\n",
    "advanced_generator.generate_report('reports/montana_advanced_report.pdf', patient_info)\n",
    "\n",
    "print(\"Advanced report generated: reports/montana_advanced_report.pdf\")"
   ]
  },
  {
   "cell_type": "markdown",
   "metadata": {},
   "source": [
    "### Understanding the Advanced Report Components\n",
    "\n",
    "The advanced report includes several key sections:"
   ]
  },
  {
   "cell_type": "markdown",
   "metadata": {},
   "source": [
    "### Working with Multiple Barcodes\n",
    "\n",
    "The real data file contains multiple barcode columns representing different samples. Let's explore how to generate reports for different samples:"
   ]
  },
  {
   "cell_type": "code",
   "execution_count": 9,
   "metadata": {},
   "outputs": [
    {
     "name": "stdout",
     "output_type": "stream",
     "text": [
      "Available barcode columns: 30\n",
      "Barcode columns: ['barcode45', 'barcode46', 'barcode47', 'barcode48', 'barcode50', 'barcode51', 'barcode52', 'barcode53', 'barcode54', 'barcode55', 'barcode56', 'barcode58', 'barcode59', 'barcode60', 'barcode61', 'barcode62', 'barcode63', 'barcode64', 'barcode66', 'barcode67', 'barcode68', 'barcode69', 'barcode70', 'barcode71', 'barcode72', 'barcode74', 'barcode75', 'barcode76', 'barcode77', 'barcode78']\n",
      "\n",
      "Barcodes with data (29):\n",
      "  barcode52: 606 total reads\n",
      "  barcode78: 522 total reads\n",
      "  barcode56: 520 total reads\n",
      "  barcode63: 478 total reads\n",
      "  barcode66: 462 total reads\n",
      "  barcode71: 418 total reads\n",
      "  barcode67: 391 total reads\n",
      "  barcode61: 308 total reads\n",
      "  barcode53: 285 total reads\n",
      "  barcode69: 265 total reads\n"
     ]
    }
   ],
   "source": [
    "# Explore all available barcodes in the real data\n",
    "df_real = pd.read_csv('data/25_04_23 bact.csv')\n",
    "barcode_columns = [col for col in df_real.columns if col.startswith('barcode')]\n",
    "\n",
    "print(f\"Available barcode columns: {len(barcode_columns)}\")\n",
    "print(f\"Barcode columns: {barcode_columns}\")\n",
    "\n",
    "# Check which barcodes have data\n",
    "barcodes_with_data = []\n",
    "for barcode in barcode_columns:\n",
    "    total = df_real[barcode].sum()\n",
    "    if total > 0:\n",
    "        barcodes_with_data.append((barcode, total))\n",
    "\n",
    "print(f\"\\nBarcodes with data ({len(barcodes_with_data)}):\")\n",
    "for barcode, total in sorted(barcodes_with_data, key=lambda x: x[1], reverse=True)[:10]:\n",
    "    print(f\"  {barcode}: {total} total reads\")"
   ]
  },
  {
   "cell_type": "code",
   "execution_count": 10,
   "metadata": {},
   "outputs": [
    {
     "name": "stdout",
     "output_type": "stream",
     "text": [
      "Advanced Report Sections:\n",
      "  • 1. Header with patient information\n",
      "  • 2. Microbiome profile visualization\n",
      "  • 3. Phylum distribution with reference ranges\n",
      "  • 4. Dysbiosis index calculation\n",
      "  • 5. Clinical interpretation in Polish\n",
      "  • 6. Microscopic analysis results\n",
      "  • 7. Biochemical analysis\n",
      "  • 8. Parasite screening results\n"
     ]
    }
   ],
   "source": [
    "# Display the components included in the advanced report\n",
    "report_sections = [\n",
    "    \"1. Header with patient information\",\n",
    "    \"2. Microbiome profile visualization\",\n",
    "    \"3. Phylum distribution with reference ranges\",\n",
    "    \"4. Dysbiosis index calculation\",\n",
    "    \"5. Clinical interpretation in Polish\",\n",
    "    \"6. Microscopic analysis results\",\n",
    "    \"7. Biochemical analysis\",\n",
    "    \"8. Parasite screening results\"\n",
    "]\n",
    "\n",
    "print(\"Advanced Report Sections:\")\n",
    "for section in report_sections:\n",
    "    print(f\"  • {section}\")"
   ]
  },
  {
   "cell_type": "markdown",
   "metadata": {},
   "source": [
    "<a id='batch-processing'></a>\n",
    "## 5. Batch Processing\n",
    "\n",
    "For processing multiple samples, we can use the batch processor."
   ]
  },
  {
   "cell_type": "code",
   "execution_count": 11,
   "metadata": {},
   "outputs": [
    {
     "name": "stdout",
     "output_type": "stream",
     "text": [
      "Created manifest_real_data.csv for real data processing\n"
     ]
    },
    {
     "data": {
      "text/html": [
       "<div>\n",
       "<style scoped>\n",
       "    .dataframe tbody tr th:only-of-type {\n",
       "        vertical-align: middle;\n",
       "    }\n",
       "\n",
       "    .dataframe tbody tr th {\n",
       "        vertical-align: top;\n",
       "    }\n",
       "\n",
       "    .dataframe thead th {\n",
       "        text-align: right;\n",
       "    }\n",
       "</style>\n",
       "<table border=\"1\" class=\"dataframe\">\n",
       "  <thead>\n",
       "    <tr style=\"text-align: right;\">\n",
       "      <th></th>\n",
       "      <th>csv_file</th>\n",
       "      <th>barcode_column</th>\n",
       "      <th>patient_name</th>\n",
       "      <th>species</th>\n",
       "      <th>age</th>\n",
       "      <th>sample_number</th>\n",
       "      <th>date_received</th>\n",
       "      <th>performed_by</th>\n",
       "      <th>requested_by</th>\n",
       "    </tr>\n",
       "  </thead>\n",
       "  <tbody>\n",
       "    <tr>\n",
       "      <th>0</th>\n",
       "      <td>25_04_23 bact.csv</td>\n",
       "      <td>barcode59</td>\n",
       "      <td>Montana</td>\n",
       "      <td>Koń</td>\n",
       "      <td>20 lat</td>\n",
       "      <td>506</td>\n",
       "      <td>07.05.2025 r.</td>\n",
       "      <td>Julia Kończak</td>\n",
       "      <td>Aleksandra Matusiak</td>\n",
       "    </tr>\n",
       "    <tr>\n",
       "      <th>1</th>\n",
       "      <td>25_04_23 bact.csv</td>\n",
       "      <td>barcode72</td>\n",
       "      <td>Thunder</td>\n",
       "      <td>Koń</td>\n",
       "      <td>15 lat</td>\n",
       "      <td>507</td>\n",
       "      <td>08.05.2025 r.</td>\n",
       "      <td>Julia Kończak</td>\n",
       "      <td>Dr. Smith</td>\n",
       "    </tr>\n",
       "    <tr>\n",
       "      <th>2</th>\n",
       "      <td>25_04_23 bact.csv</td>\n",
       "      <td>barcode56</td>\n",
       "      <td>Spirit</td>\n",
       "      <td>Koń</td>\n",
       "      <td>12 lat</td>\n",
       "      <td>508</td>\n",
       "      <td>09.05.2025 r.</td>\n",
       "      <td>Julia Kończak</td>\n",
       "      <td>Dr. Johnson</td>\n",
       "    </tr>\n",
       "  </tbody>\n",
       "</table>\n",
       "</div>"
      ],
      "text/plain": [
       "            csv_file barcode_column patient_name species     age  \\\n",
       "0  25_04_23 bact.csv      barcode59      Montana     Koń  20 lat   \n",
       "1  25_04_23 bact.csv      barcode72      Thunder     Koń  15 lat   \n",
       "2  25_04_23 bact.csv      barcode56       Spirit     Koń  12 lat   \n",
       "\n",
       "  sample_number  date_received   performed_by         requested_by  \n",
       "0           506  07.05.2025 r.  Julia Kończak  Aleksandra Matusiak  \n",
       "1           507  08.05.2025 r.  Julia Kończak            Dr. Smith  \n",
       "2           508  09.05.2025 r.  Julia Kończak          Dr. Johnson  "
      ]
     },
     "execution_count": 11,
     "metadata": {},
     "output_type": "execute_result"
    }
   ],
   "source": [
    "# Create a manifest file for batch processing with real barcodes\n",
    "# Let's process multiple barcodes from the same file\n",
    "top_barcodes = ['barcode59', 'barcode72', 'barcode56']  # Based on the real data\n",
    "\n",
    "manifest_data = pd.DataFrame({\n",
    "    'csv_file': ['25_04_23 bact.csv', '25_04_23 bact.csv', '25_04_23 bact.csv'],\n",
    "    'barcode_column': top_barcodes,\n",
    "    'patient_name': ['Montana', 'Thunder', 'Spirit'],\n",
    "    'species': ['Koń', 'Koń', 'Koń'],\n",
    "    'age': ['20 lat', '15 lat', '12 lat'],\n",
    "    'sample_number': ['506', '507', '508'],\n",
    "    'date_received': ['07.05.2025 r.', '08.05.2025 r.', '09.05.2025 r.'],\n",
    "    'performed_by': ['Julia Kończak', 'Julia Kończak', 'Julia Kończak'],\n",
    "    'requested_by': ['Aleksandra Matusiak', 'Dr. Smith', 'Dr. Johnson']\n",
    "})\n",
    "\n",
    "manifest_data.to_csv('manifest_real_data.csv', index=False)\n",
    "print(\"Created manifest_real_data.csv for real data processing\")\n",
    "manifest_data"
   ]
  },
  {
   "cell_type": "code",
   "execution_count": 12,
   "metadata": {},
   "outputs": [
    {
     "name": "stdout",
     "output_type": "stream",
     "text": [
      "Created data/sample_1.csv from barcode52 data (26 species)\n",
      "Created data/sample_2.csv from barcode78 data (34 species)\n",
      "Created data/sample_3.csv from barcode56 data (47 species)\n"
     ]
    }
   ],
   "source": [
    "# Create sample files from the real data for batch processing demonstration\n",
    "import random\n",
    "\n",
    "# Use different barcodes from the real data to create sample files\n",
    "barcodes_for_samples = ['barcode52', 'barcode78', 'barcode56']  # Top barcodes with most data\n",
    "\n",
    "for i, barcode in enumerate(barcodes_for_samples, 1):\n",
    "    # Create a subset of the real data for each barcode\n",
    "    subset_df = df[df[barcode] > 0].copy()\n",
    "    \n",
    "    # Rename the barcode column to 'barcode59' for consistency with our examples\n",
    "    subset_df['barcode59'] = subset_df[barcode]\n",
    "    \n",
    "    # Keep only necessary columns\n",
    "    columns_to_keep = ['species', 'barcode59', 'phylum', 'genus', 'family', 'class', 'order']\n",
    "    subset_df = subset_df[columns_to_keep]\n",
    "    \n",
    "    # Save to file\n",
    "    subset_df.to_csv(f'data/sample_{i}.csv', index=False)\n",
    "    print(f\"Created data/sample_{i}.csv from {barcode} data ({len(subset_df)} species)\")"
   ]
  },
  {
   "cell_type": "code",
   "execution_count": 13,
   "metadata": {},
   "outputs": [
    {
     "name": "stdout",
     "output_type": "stream",
     "text": [
      "Created config.yaml\n"
     ]
    }
   ],
   "source": [
    "# Create a configuration file for batch processing\n",
    "config_content = \"\"\"# Default barcode column to analyze\n",
    "barcode_column: barcode59\n",
    "\n",
    "# Default patient information\n",
    "default_species: Koń\n",
    "default_age: Unknown\n",
    "performed_by: Julia Kończak\n",
    "requested_by: Aleksandra Matusiak\n",
    "\n",
    "# Processing settings\n",
    "max_workers: 4\n",
    "log_level: INFO\n",
    "\"\"\"\n",
    "\n",
    "with open('config.yaml', 'w') as f:\n",
    "    f.write(config_content)\n",
    "print(\"Created config.yaml\")"
   ]
  },
  {
   "cell_type": "code",
   "execution_count": 14,
   "metadata": {},
   "outputs": [
    {
     "name": "stdout",
     "output_type": "stream",
     "text": [
      "Created manifest.csv\n"
     ]
    },
    {
     "data": {
      "text/html": [
       "<div>\n",
       "<style scoped>\n",
       "    .dataframe tbody tr th:only-of-type {\n",
       "        vertical-align: middle;\n",
       "    }\n",
       "\n",
       "    .dataframe tbody tr th {\n",
       "        vertical-align: top;\n",
       "    }\n",
       "\n",
       "    .dataframe thead th {\n",
       "        text-align: right;\n",
       "    }\n",
       "</style>\n",
       "<table border=\"1\" class=\"dataframe\">\n",
       "  <thead>\n",
       "    <tr style=\"text-align: right;\">\n",
       "      <th></th>\n",
       "      <th>csv_file</th>\n",
       "      <th>patient_name</th>\n",
       "      <th>species</th>\n",
       "      <th>age</th>\n",
       "      <th>sample_number</th>\n",
       "      <th>date_received</th>\n",
       "      <th>performed_by</th>\n",
       "      <th>requested_by</th>\n",
       "    </tr>\n",
       "  </thead>\n",
       "  <tbody>\n",
       "    <tr>\n",
       "      <th>0</th>\n",
       "      <td>data/sample_1.csv</td>\n",
       "      <td>Montana</td>\n",
       "      <td>Koń</td>\n",
       "      <td>20 lat</td>\n",
       "      <td>506</td>\n",
       "      <td>07.05.2025 r.</td>\n",
       "      <td>Julia Kończak</td>\n",
       "      <td>Aleksandra Matusiak</td>\n",
       "    </tr>\n",
       "    <tr>\n",
       "      <th>1</th>\n",
       "      <td>data/sample_2.csv</td>\n",
       "      <td>Thunder</td>\n",
       "      <td>Koń</td>\n",
       "      <td>15 lat</td>\n",
       "      <td>507</td>\n",
       "      <td>08.05.2025 r.</td>\n",
       "      <td>Julia Kończak</td>\n",
       "      <td>Dr. Smith</td>\n",
       "    </tr>\n",
       "    <tr>\n",
       "      <th>2</th>\n",
       "      <td>data/sample_3.csv</td>\n",
       "      <td>Spirit</td>\n",
       "      <td>Koń</td>\n",
       "      <td>12 lat</td>\n",
       "      <td>508</td>\n",
       "      <td>09.05.2025 r.</td>\n",
       "      <td>Julia Kończak</td>\n",
       "      <td>Dr. Johnson</td>\n",
       "    </tr>\n",
       "  </tbody>\n",
       "</table>\n",
       "</div>"
      ],
      "text/plain": [
       "            csv_file patient_name species     age sample_number  \\\n",
       "0  data/sample_1.csv      Montana     Koń  20 lat           506   \n",
       "1  data/sample_2.csv      Thunder     Koń  15 lat           507   \n",
       "2  data/sample_3.csv       Spirit     Koń  12 lat           508   \n",
       "\n",
       "   date_received   performed_by         requested_by  \n",
       "0  07.05.2025 r.  Julia Kończak  Aleksandra Matusiak  \n",
       "1  08.05.2025 r.  Julia Kończak            Dr. Smith  \n",
       "2  09.05.2025 r.  Julia Kończak          Dr. Johnson  "
      ]
     },
     "execution_count": 14,
     "metadata": {},
     "output_type": "execute_result"
    }
   ],
   "source": [
    "# Create a manifest file for batch processing with patient details\n",
    "manifest_data = pd.DataFrame({\n",
    "    'csv_file': ['data/sample_1.csv', 'data/sample_2.csv', 'data/sample_3.csv'],\n",
    "    'patient_name': ['Montana', 'Thunder', 'Spirit'],\n",
    "    'species': ['Koń', 'Koń', 'Koń'],\n",
    "    'age': ['20 lat', '15 lat', '12 lat'],\n",
    "    'sample_number': ['506', '507', '508'],\n",
    "    'date_received': ['07.05.2025 r.', '08.05.2025 r.', '09.05.2025 r.'],\n",
    "    'performed_by': ['Julia Kończak', 'Julia Kończak', 'Julia Kończak'],\n",
    "    'requested_by': ['Aleksandra Matusiak', 'Dr. Smith', 'Dr. Johnson']\n",
    "})\n",
    "\n",
    "manifest_data.to_csv('manifest.csv', index=False)\n",
    "print(\"Created manifest.csv\")\n",
    "manifest_data"
   ]
  },
  {
   "cell_type": "code",
   "execution_count": 15,
   "metadata": {},
   "outputs": [
    {
     "name": "stdout",
     "output_type": "stream",
     "text": [
      "2025-06-27 18:41:37,318 - batch_processor - INFO - Processing data/sample_1.csv -> reports/batch/sample_1_report.pdf\n",
      "Report generated successfully: reports/batch/sample_1_report.pdf\n",
      "2025-06-27 18:41:39,664 - batch_processor - INFO - Successfully generated report: reports/batch/sample_1_report.pdf\n",
      "2025-06-27 18:41:39,665 - batch_processor - INFO - Processing data/sample_2.csv -> reports/batch/sample_2_report.pdf\n",
      "Report generated successfully: reports/batch/sample_2_report.pdf\n",
      "2025-06-27 18:41:41,861 - batch_processor - INFO - Successfully generated report: reports/batch/sample_2_report.pdf\n",
      "2025-06-27 18:41:41,862 - batch_processor - INFO - Processing data/sample_3.csv -> reports/batch/sample_3_report.pdf\n",
      "Report generated successfully: reports/batch/sample_3_report.pdf\n",
      "2025-06-27 18:41:44,122 - batch_processor - INFO - Successfully generated report: reports/batch/sample_3_report.pdf\n",
      "\n",
      "Batch processing complete!\n",
      "\n",
      "Generated reports:\n",
      "  • reports/batch/sample_3_report.pdf\n",
      "  • reports/batch/sample_2_report.pdf\n",
      "  • reports/batch/sample_1_report.pdf\n"
     ]
    }
   ],
   "source": [
    "# Process files using the batch processor\n",
    "processor = BatchReportProcessor()\n",
    "\n",
    "# Process from manifest\n",
    "processor.process_from_manifest('manifest.csv', 'reports/batch/')\n",
    "\n",
    "print(\"\\nBatch processing complete!\")\n",
    "print(\"\\nGenerated reports:\")\n",
    "for report in Path('reports/batch/').glob('*.pdf'):\n",
    "    print(f\"  • {report}\")"
   ]
  },
  {
   "cell_type": "markdown",
   "metadata": {},
   "source": [
    "<a id='customization'></a>\n",
    "## 6. Customization Options\n",
    "\n",
    "Let's explore how to customize various aspects of the reports."
   ]
  },
  {
   "cell_type": "markdown",
   "metadata": {},
   "source": [
    "### Customizing Reference Ranges\n",
    "\n",
    "You can modify the reference ranges for different phylums based on your specific requirements:"
   ]
  },
  {
   "cell_type": "code",
   "execution_count": 16,
   "metadata": {},
   "outputs": [
    {
     "name": "stdout",
     "output_type": "stream",
     "text": [
      "Current Reference Ranges:\n",
      "Actinomycetota: 0.1% - 8%\n",
      "Bacillota: 20% - 70%\n",
      "Bacteroidota: 4% - 40%\n",
      "Pseudomonadota: 2% - 35%\n",
      "Fibrobacterota: 0.1% - 5%\n",
      "\n",
      "Custom Reference Ranges (example):\n",
      "Actinomycetota: 0.5% - 10%\n",
      "Bacillota: 25% - 65%\n",
      "Bacteroidota: 5% - 35%\n",
      "Pseudomonadota: 3% - 30%\n",
      "Fibrobacterota: 0.5% - 8%\n"
     ]
    }
   ],
   "source": [
    "# Display current reference ranges\n",
    "from advanced_pdf_generator import AdvancedMicrobiomeReportGenerator\n",
    "\n",
    "print(\"Current Reference Ranges:\")\n",
    "for phylum, (min_val, max_val) in AdvancedMicrobiomeReportGenerator.REFERENCE_RANGES.items():\n",
    "    print(f\"{phylum}: {min_val}% - {max_val}%\")\n",
    "\n",
    "# Example of how to modify reference ranges\n",
    "# Note: This would need to be done in the actual Python file\n",
    "custom_ranges = {\n",
    "    'Actinomycetota': (0.5, 10),\n",
    "    'Bacillota': (25, 65),\n",
    "    'Bacteroidota': (5, 35),\n",
    "    'Pseudomonadota': (3, 30),\n",
    "    'Fibrobacterota': (0.5, 8)\n",
    "}\n",
    "\n",
    "print(\"\\nCustom Reference Ranges (example):\")\n",
    "for phylum, (min_val, max_val) in custom_ranges.items():\n",
    "    print(f\"{phylum}: {min_val}% - {max_val}%\")"
   ]
  },
  {
   "cell_type": "markdown",
   "metadata": {},
   "source": [
    "### Customizing Colors and Visualization"
   ]
  },
  {
   "cell_type": "code",
   "execution_count": 17,
   "metadata": {},
   "outputs": [
    {
     "name": "stdout",
     "output_type": "stream",
     "text": [
      "Current Phylum Colors:\n",
      "Actinomycetota: #00BCD4\n",
      "Bacillota: #4CAF50\n",
      "Bacteroidota: #FF5722\n",
      "Pseudomonadota: #00E5FF\n",
      "Fibrobacterota: #9C27B0\n",
      "Other: #9E9E9E\n"
     ]
    },
    {
     "name": "stderr",
     "output_type": "stream",
     "text": [
      "/tmp/ipykernel_266573/787837290.py:20: UserWarning: FigureCanvasAgg is non-interactive, and thus cannot be shown\n",
      "  plt.show()\n"
     ]
    }
   ],
   "source": [
    "# Display current color scheme\n",
    "print(\"Current Phylum Colors:\")\n",
    "for phylum, color in AdvancedMicrobiomeReportGenerator.PHYLUM_COLORS.items():\n",
    "    print(f\"{phylum}: {color}\")\n",
    "\n",
    "# Visualize the color scheme\n",
    "fig, ax = plt.subplots(1, 1, figsize=(8, 4))\n",
    "y_pos = 0\n",
    "for phylum, color in AdvancedMicrobiomeReportGenerator.PHYLUM_COLORS.items():\n",
    "    ax.barh(y_pos, 1, color=color, height=0.8)\n",
    "    ax.text(0.5, y_pos, phylum, ha='center', va='center', fontweight='bold')\n",
    "    y_pos += 1\n",
    "\n",
    "ax.set_xlim(0, 1)\n",
    "ax.set_ylim(-0.5, len(AdvancedMicrobiomeReportGenerator.PHYLUM_COLORS) - 0.5)\n",
    "ax.set_xticks([])\n",
    "ax.set_yticks([])\n",
    "ax.set_title('Phylum Color Scheme')\n",
    "plt.tight_layout()\n",
    "plt.show()"
   ]
  },
  {
   "cell_type": "markdown",
   "metadata": {},
   "source": [
    "### Creating Custom Clinical Interpretations"
   ]
  },
  {
   "cell_type": "code",
   "execution_count": 18,
   "metadata": {},
   "outputs": [
    {
     "name": "stdout",
     "output_type": "stream",
     "text": [
      "Custom interpretation:\n",
      "Analiza mikrobiomu wykazała prawidłowy poziom bakterii Bacillota, brak patogenów jelitowych. Zaleca się kontynuację monitorowania stanu zdrowia.\n"
     ]
    }
   ],
   "source": [
    "# Example function to generate custom clinical interpretation\n",
    "def generate_custom_interpretation(phylum_dist, species_data):\n",
    "    \"\"\"\n",
    "    Generate a custom clinical interpretation based on the microbiome data.\n",
    "    \n",
    "    Args:\n",
    "        phylum_dist: Dictionary of phylum percentages\n",
    "        species_data: DataFrame with species information\n",
    "    \n",
    "    Returns:\n",
    "        str: Clinical interpretation text\n",
    "    \"\"\"\n",
    "    interpretation = \"Analiza mikrobiomu wykazała \"\n",
    "    \n",
    "    # Check Bacillota levels\n",
    "    bacillota_pct = phylum_dist.get('Bacillota', 0)\n",
    "    if 20 <= bacillota_pct <= 70:\n",
    "        interpretation += \"prawidłowy poziom bakterii Bacillota, \"\n",
    "    elif bacillota_pct < 20:\n",
    "        interpretation += \"obniżony poziom bakterii Bacillota, \"\n",
    "    else:\n",
    "        interpretation += \"podwyższony poziom bakterii Bacillota, \"\n",
    "    \n",
    "    # Check for pathogenic species\n",
    "    pathogenic = ['Clostridium_difficile', 'Salmonella_enterica', 'Campylobacter_jejuni']\n",
    "    pathogens_found = species_data[species_data['species'].isin(pathogenic)]\n",
    "    \n",
    "    if pathogens_found.empty:\n",
    "        interpretation += \"brak patogenów jelitowych. \"\n",
    "    else:\n",
    "        interpretation += f\"wykryto potencjalne patogeny: {', '.join(pathogens_found['species'])}. \"\n",
    "    \n",
    "    interpretation += \"Zaleca się kontynuację monitorowania stanu zdrowia.\"\n",
    "    \n",
    "    return interpretation\n",
    "\n",
    "# Test the function with our sample data\n",
    "test_phylum_dist = {'Bacillota': 24.46, 'Bacteroidota': 2.17, 'Pseudomonadota': 34.24}\n",
    "test_interpretation = generate_custom_interpretation(test_phylum_dist, df)\n",
    "print(\"Custom interpretation:\")\n",
    "print(test_interpretation)"
   ]
  },
  {
   "cell_type": "code",
   "execution_count": 19,
   "metadata": {},
   "outputs": [
    {
     "name": "stdout",
     "output_type": "stream",
     "text": [
      "Validating real data file:\n",
      "✅ CSV format is valid\n",
      "   Found 30 barcode columns\n",
      "   Species count: 169\n",
      "   Unique phylums: 8\n"
     ]
    },
    {
     "data": {
      "text/plain": [
       "True"
      ]
     },
     "execution_count": 19,
     "metadata": {},
     "output_type": "execute_result"
    }
   ],
   "source": [
    "# Check if required columns are present in our real data\n",
    "def validate_csv_format(csv_path):\n",
    "    \"\"\"\n",
    "    Validate that the CSV file has all required columns.\n",
    "    \"\"\"\n",
    "    required_columns = ['species', 'phylum', 'genus']\n",
    "    \n",
    "    try:\n",
    "        df = pd.read_csv(csv_path)\n",
    "        missing_columns = [col for col in required_columns if col not in df.columns]\n",
    "        \n",
    "        if missing_columns:\n",
    "            print(f\"❌ Missing required columns: {missing_columns}\")\n",
    "            return False\n",
    "        \n",
    "        # Check for barcode columns\n",
    "        barcode_columns = [col for col in df.columns if col.startswith('barcode')]\n",
    "        if not barcode_columns:\n",
    "            print(\"❌ No barcode columns found\")\n",
    "            return False\n",
    "        \n",
    "        print(\"✅ CSV format is valid\")\n",
    "        print(f\"   Found {len(barcode_columns)} barcode columns\")\n",
    "        print(f\"   Species count: {len(df)}\")\n",
    "        print(f\"   Unique phylums: {df['phylum'].nunique()}\")\n",
    "        return True\n",
    "        \n",
    "    except Exception as e:\n",
    "        print(f\"❌ Error reading CSV: {e}\")\n",
    "        return False\n",
    "\n",
    "# Test validation with real data\n",
    "print(\"Validating real data file:\")\n",
    "validate_csv_format('data/25_04_23 bact.csv')"
   ]
  },
  {
   "cell_type": "markdown",
   "metadata": {},
   "source": [
    "<a id='troubleshooting'></a>\n",
    "## 7. Troubleshooting\n",
    "\n",
    "Common issues and their solutions:"
   ]
  },
  {
   "cell_type": "markdown",
   "metadata": {},
   "source": [
    "### Issue 1: Missing Columns in CSV"
   ]
  },
  {
   "cell_type": "code",
   "execution_count": 20,
   "metadata": {},
   "outputs": [
    {
     "name": "stdout",
     "output_type": "stream",
     "text": [
      "✅ CSV format is valid\n",
      "   Found barcode columns: ['barcode45', 'barcode46', 'barcode47', 'barcode48', 'barcode50', 'barcode51', 'barcode52', 'barcode53', 'barcode54', 'barcode55', 'barcode56', 'barcode58', 'barcode59', 'barcode60', 'barcode61', 'barcode62', 'barcode63', 'barcode64', 'barcode66', 'barcode67', 'barcode68', 'barcode69', 'barcode70', 'barcode71', 'barcode72', 'barcode74', 'barcode75', 'barcode76', 'barcode77', 'barcode78']\n"
     ]
    },
    {
     "data": {
      "text/plain": [
       "True"
      ]
     },
     "execution_count": 20,
     "metadata": {},
     "output_type": "execute_result"
    }
   ],
   "source": [
    "# Check if required columns are present\n",
    "def validate_csv_format(csv_path):\n",
    "    \"\"\"\n",
    "    Validate that the CSV file has all required columns.\n",
    "    \"\"\"\n",
    "    required_columns = ['species', 'phylum', 'genus']\n",
    "    \n",
    "    try:\n",
    "        df = pd.read_csv(csv_path)\n",
    "        missing_columns = [col for col in required_columns if col not in df.columns]\n",
    "        \n",
    "        if missing_columns:\n",
    "            print(f\"❌ Missing required columns: {missing_columns}\")\n",
    "            return False\n",
    "        \n",
    "        # Check for barcode columns\n",
    "        barcode_columns = [col for col in df.columns if col.startswith('barcode')]\n",
    "        if not barcode_columns:\n",
    "            print(\"❌ No barcode columns found\")\n",
    "            return False\n",
    "        \n",
    "        print(\"✅ CSV format is valid\")\n",
    "        print(f\"   Found barcode columns: {barcode_columns}\")\n",
    "        return True\n",
    "        \n",
    "    except Exception as e:\n",
    "        print(f\"❌ Error reading CSV: {e}\")\n",
    "        return False\n",
    "\n",
    "# Test validation\n",
    "validate_csv_format('data/25_04_23 bact.csv')"
   ]
  },
  {
   "cell_type": "markdown",
   "metadata": {},
   "source": [
    "### Issue 2: Polish Characters Not Displaying"
   ]
  },
  {
   "cell_type": "markdown",
   "metadata": {},
   "source": [
    "If Polish characters are not displaying correctly in your PDFs, try these solutions:\n",
    "\n",
    "1. **Install system fonts with Polish support**\n",
    "2. **Configure matplotlib to use appropriate fonts**\n",
    "3. **Ensure your data files are UTF-8 encoded**"
   ]
  },
  {
   "cell_type": "code",
   "execution_count": 21,
   "metadata": {},
   "outputs": [
    {
     "name": "stdout",
     "output_type": "stream",
     "text": [
      "Polish text: KOMPLEKSOWE BADANIE KAŁU - żółć, źrebię, gęś\n",
      "Encoded: b'KOMPLEKSOWE BADANIE KA\\xc5\\x81U - \\xc5\\xbc\\xc3\\xb3\\xc5\\x82\\xc4\\x87, \\xc5\\xbarebi\\xc4\\x99, g\\xc4\\x99\\xc5\\x9b'\n"
     ]
    },
    {
     "name": "stderr",
     "output_type": "stream",
     "text": [
      "/tmp/ipykernel_266573/3959457795.py:14: UserWarning: FigureCanvasAgg is non-interactive, and thus cannot be shown\n",
      "  plt.show()\n"
     ]
    }
   ],
   "source": [
    "# Test Polish character support\n",
    "polish_text = \"KOMPLEKSOWE BADANIE KAŁU - żółć, źrebię, gęś\"\n",
    "print(f\"Polish text: {polish_text}\")\n",
    "print(f\"Encoded: {polish_text.encode('utf-8')}\")\n",
    "\n",
    "# Ensure matplotlib supports Polish characters\n",
    "plt.rcParams['font.family'] = 'DejaVu Sans'\n",
    "fig, ax = plt.subplots(figsize=(6, 2))\n",
    "ax.text(0.5, 0.5, polish_text, ha='center', va='center', fontsize=12)\n",
    "ax.set_xlim(0, 1)\n",
    "ax.set_ylim(0, 1)\n",
    "ax.axis('off')\n",
    "plt.title('Polish Character Test')\n",
    "plt.show()"
   ]
  },
  {
   "cell_type": "code",
   "execution_count": 22,
   "metadata": {},
   "outputs": [
    {
     "name": "stdout",
     "output_type": "stream",
     "text": [
      "Total fonts available: 575\n",
      "\n",
      "Polish-compatible fonts found: ['DejaVu Sans', 'Liberation Sans', 'Noto Sans']\n",
      "\n",
      "Using font: DejaVu Sans\n"
     ]
    }
   ],
   "source": [
    "# Solution: Install and configure fonts for Polish characters\n",
    "import matplotlib.font_manager as fm\n",
    "\n",
    "# List available fonts\n",
    "available_fonts = [f.name for f in fm.fontManager.ttflist]\n",
    "print(f\"Total fonts available: {len(available_fonts)}\")\n",
    "\n",
    "# Find fonts that support Polish characters\n",
    "polish_compatible_fonts = ['DejaVu Sans', 'Liberation Sans', 'Arial Unicode MS', 'Noto Sans']\n",
    "found_fonts = [font for font in polish_compatible_fonts if font in available_fonts]\n",
    "\n",
    "print(f\"\\nPolish-compatible fonts found: {found_fonts}\")\n",
    "\n",
    "# Set a font that works\n",
    "if found_fonts:\n",
    "    plt.rcParams['font.family'] = found_fonts[0]\n",
    "    print(f\"\\nUsing font: {found_fonts[0]}\")\n",
    "else:\n",
    "    print(\"\\n⚠️ No Polish-compatible fonts found. Consider installing DejaVu fonts.\")\n",
    "    print(\"   On Ubuntu/Debian: sudo apt-get install fonts-dejavu\")\n",
    "    print(\"   On macOS: brew install font-dejavu\")\n",
    "    print(\"   On Windows: Download from https://dejavu-fonts.github.io/\")"
   ]
  },
  {
   "cell_type": "code",
   "execution_count": 23,
   "metadata": {},
   "outputs": [
    {
     "name": "stdout",
     "output_type": "stream",
     "text": [
      "Looking for real data file: data/25_04_23 bact.csv\n",
      "\n",
      "Data shape: (169, 47)\n",
      "\n",
      "Columns: ['species', 'barcode45', 'barcode46', 'barcode47', 'barcode48', 'barcode50', 'barcode51', 'barcode52', 'barcode53', 'barcode54']...\n",
      "\n",
      "Barcode columns found: 30\n",
      "First few: ['barcode45', 'barcode46', 'barcode47', 'barcode48', 'barcode50']\n",
      "\n",
      "Species diversity by sample (top 5):\n",
      "  Barcode  Species Count  Total Reads\n",
      "barcode45              8          104\n",
      "barcode46             17          135\n",
      "barcode47              7           82\n",
      "barcode48              5           67\n",
      "barcode50              6           66\n"
     ]
    }
   ],
   "source": [
    "# Working with the real data file\n",
    "real_data_file = 'data/25_04_23 bact.csv'\n",
    "print(f\"Looking for real data file: {real_data_file}\")\n",
    "\n",
    "# Load and examine the data\n",
    "real_df = pd.read_csv(real_data_file)\n",
    "print(f\"\\nData shape: {real_df.shape}\")\n",
    "print(f\"\\nColumns: {list(real_df.columns)[:10]}...\")  # Show first 10 columns\n",
    "\n",
    "# Find barcode columns\n",
    "barcode_cols = [col for col in real_df.columns if 'barcode' in col.lower()]\n",
    "print(f\"\\nBarcode columns found: {len(barcode_cols)}\")\n",
    "print(f\"First few: {barcode_cols[:5]}\")\n",
    "\n",
    "# Analyze diversity across samples\n",
    "print(\"\\nSpecies diversity by sample (top 5):\")\n",
    "diversity_stats = []\n",
    "for barcode in barcode_cols[:5]:\n",
    "    species_count = (real_df[barcode] > 0).sum()\n",
    "    total_reads = real_df[barcode].sum()\n",
    "    if total_reads > 0:\n",
    "        diversity_stats.append({\n",
    "            'Barcode': barcode,\n",
    "            'Species Count': species_count,\n",
    "            'Total Reads': total_reads\n",
    "        })\n",
    "\n",
    "diversity_df = pd.DataFrame(diversity_stats)\n",
    "print(diversity_df.to_string(index=False))"
   ]
  },
  {
   "cell_type": "markdown",
   "metadata": {},
   "source": [
    "For handling large CSV files that might cause memory issues:\n",
    "\n",
    "1. **Use chunk processing** - Process the file in smaller pieces\n",
    "2. **Filter unnecessary columns** - Only load the columns you need\n",
    "3. **Use data types efficiently** - Specify dtypes when reading CSV\n",
    "4. **Consider using databases** - For very large datasets, use SQLite or PostgreSQL"
   ]
  },
  {
   "cell_type": "code",
   "execution_count": 24,
   "metadata": {},
   "outputs": [],
   "source": [
    "# Example: Efficient loading of large CSV files\n",
    "def load_microbiome_data_efficiently(csv_path, barcode_column):\n",
    "    \"\"\"\n",
    "    Load microbiome data efficiently by only reading necessary columns.\n",
    "    \"\"\"\n",
    "    # First, read just the header to get column names\n",
    "    with open(csv_path, 'r') as f:\n",
    "        header = f.readline().strip().split(',')\n",
    "    \n",
    "    # Identify columns we need\n",
    "    taxonomy_cols = ['species', 'phylum', 'genus', 'family', 'class', 'order']\n",
    "    cols_to_read = taxonomy_cols + [barcode_column]\n",
    "    cols_to_read = [col for col in cols_to_read if col in header]\n",
    "    \n",
    "    # Read only the necessary columns\n",
    "    df = pd.read_csv(csv_path, usecols=cols_to_read, dtype={\n",
    "        'species': 'string',\n",
    "        'phylum': 'string',\n",
    "        'genus': 'string',\n",
    "        'family': 'string',\n",
    "        'class': 'string',\n",
    "        'order': 'string',\n",
    "        barcode_column: 'int32'  # Use int32 instead of int64 to save memory\n",
    "    })\n",
    "    \n",
    "    print(f\"Loaded {len(df)} rows with {len(df.columns)} columns\")\n",
    "    print(f\"Memory usage: {df.memory_usage().sum() / 1024**2:.2f} MB\")\n",
    "    \n",
    "    return df\n",
    "\n",
    "# Example usage\n",
    "# df = load_microbiome_data_efficiently('25_04_23 bact.csv', 'barcode59')"
   ]
  },
  {
   "cell_type": "code",
   "execution_count": 25,
   "metadata": {},
   "outputs": [
    {
     "name": "stdout",
     "output_type": "stream",
     "text": [
      "This function can process CSV files of any size without loading everything into memory.\n"
     ]
    }
   ],
   "source": [
    "# Function to process large CSV files in chunks\n",
    "def process_large_csv(csv_path, barcode_column, chunk_size=1000):\n",
    "    \"\"\"\n",
    "    Process large CSV files in chunks to avoid memory issues.\n",
    "    \"\"\"\n",
    "    total_counts = {}\n",
    "    phylum_counts = {}\n",
    "    \n",
    "    # Read CSV in chunks\n",
    "    for chunk in pd.read_csv(csv_path, chunksize=chunk_size):\n",
    "        # Process each chunk\n",
    "        for _, row in chunk.iterrows():\n",
    "            if barcode_column in row and row[barcode_column] > 0:\n",
    "                species = row['species']\n",
    "                count = row[barcode_column]\n",
    "                phylum = row['phylum']\n",
    "                \n",
    "                total_counts[species] = total_counts.get(species, 0) + count\n",
    "                phylum_counts[phylum] = phylum_counts.get(phylum, 0) + count\n",
    "    \n",
    "    print(f\"Processed {len(total_counts)} unique species\")\n",
    "    print(f\"Total phylums: {len(phylum_counts)}\")\n",
    "    \n",
    "    return total_counts, phylum_counts\n",
    "\n",
    "# Example usage (would work with large files)\n",
    "print(\"This function can process CSV files of any size without loading everything into memory.\")"
   ]
  },
  {
   "cell_type": "markdown",
   "metadata": {},
   "source": [
    "### Working with Real Data\n",
    "\n",
    "Let's test with the actual data file in the repository:"
   ]
  },
  {
   "cell_type": "code",
   "execution_count": 26,
   "metadata": {},
   "outputs": [
    {
     "name": "stdout",
     "output_type": "stream",
     "text": [
      "Real data file not found: 25_04_23 bact.csv\n",
      "Make sure to place the data file in the project root directory\n"
     ]
    }
   ],
   "source": [
    "# Check if the real data file exists\n",
    "real_data_file = '25_04_23 bact.csv'\n",
    "if Path(real_data_file).exists():\n",
    "    print(f\"Found real data file: {real_data_file}\")\n",
    "    \n",
    "    # Load and examine the data\n",
    "    real_df = pd.read_csv(real_data_file)\n",
    "    print(f\"\\nData shape: {real_df.shape}\")\n",
    "    print(f\"\\nColumns: {list(real_df.columns)[:10]}...\")  # Show first 10 columns\n",
    "    \n",
    "    # Find barcode columns\n",
    "    barcode_cols = [col for col in real_df.columns if 'barcode' in col.lower()]\n",
    "    print(f\"\\nBarcode columns found: {len(barcode_cols)}\")\n",
    "    if barcode_cols:\n",
    "        print(f\"First few: {barcode_cols[:5]}\")\n",
    "else:\n",
    "    print(f\"Real data file not found: {real_data_file}\")\n",
    "    print(\"Make sure to place the data file in the project root directory\")"
   ]
  },
  {
   "cell_type": "markdown",
   "metadata": {},
   "source": [
    "## Summary\n",
    "\n",
    "In this tutorial, we've covered:\n",
    "\n",
    "1. ✅ Setting up the Equine Microbiome Reporter\n",
    "2. ✅ Understanding the required data format\n",
    "3. ✅ Generating basic PDF reports\n",
    "4. ✅ Creating advanced Polish laboratory reports\n",
    "5. ✅ Batch processing multiple samples\n",
    "6. ✅ Customizing reports and interpretations\n",
    "7. ✅ Troubleshooting common issues\n",
    "\n",
    "### Next Steps\n",
    "\n",
    "- Experiment with your own microbiome data\n",
    "- Customize the report templates for your specific needs\n",
    "- Integrate the reporter into your laboratory workflow\n",
    "- Contribute improvements to the project\n",
    "\n",
    "For more information, check the project README and documentation."
   ]
  },
  {
   "cell_type": "code",
   "execution_count": 27,
   "metadata": {},
   "outputs": [],
   "source": [
    "# Clean up temporary files (optional)\n",
    "import shutil\n",
    "\n",
    "# Uncomment to clean up\n",
    "# shutil.rmtree('temp', ignore_errors=True)\n",
    "# print(\"Cleaned up temporary files\")"
   ]
  }
 ],
 "metadata": {
  "kernelspec": {
   "display_name": "equine-microbiome-reporter-GKwo-_Mf-py3.11",
   "language": "python",
   "name": "python3"
  },
  "language_info": {
   "codemirror_mode": {
    "name": "ipython",
    "version": 3
   },
   "file_extension": ".py",
   "mimetype": "text/x-python",
   "name": "python",
   "nbconvert_exporter": "python",
   "pygments_lexer": "ipython3",
   "version": "3.11.7"
  }
 },
 "nbformat": 4,
 "nbformat_minor": 4
}
