{
 "cells": [
  {
   "cell_type": "markdown",
   "metadata": {},
   "source": [
    "# LLM-Powered Recommendation Engine - Simple Demo\n",
    "\n",
    "This notebook demonstrates how to use the LLM-powered recommendation engine for equine microbiome reports.\n",
    "\n",
    "## Quick Start Guide\n",
    "\n",
    "1. **Setup**: Copy `.env.example` to `.env` and add your API keys\n",
    "2. **Install**: Run `poetry install --with llm` to install LLM dependencies\n",
    "3. **Enable**: Set `ENABLE_LLM_RECOMMENDATIONS=true` in your `.env` file\n",
    "4. **Run**: Execute the cells below to generate personalized recommendations"
   ]
  },
  {
   "cell_type": "markdown",
   "metadata": {},
   "source": [
    "## 1. Setup and Import"
   ]
  },
  {
   "cell_type": "code",
   "execution_count": null,
   "metadata": {},
   "outputs": [],
   "source": [
    "# Add the project root to Python path\n",
    "import sys\n",
    "import os\n",
    "sys.path.append(os.path.dirname(os.path.dirname(os.path.abspath('.'))))\n",
    "\n",
    "# Import the recommendation engine\n",
    "from src.llm_recommendation_engine import create_recommendation_engine\n",
    "from src.data_models import PatientInfo, MicrobiomeData\n",
    "from src.csv_processor import CSVProcessor\n",
    "\n",
    "print(\"✅ Imports successful!\")"
   ]
  },
  {
   "cell_type": "markdown",
   "metadata": {},
   "source": [
    "## 2. Check Configuration"
   ]
  },
  {
   "cell_type": "code",
   "execution_count": null,
   "metadata": {},
   "outputs": [],
   "source": [
    "# Check if environment is configured\n",
    "import os\n",
    "from dotenv import load_dotenv\n",
    "\n",
    "load_dotenv()\n",
    "\n",
    "llm_enabled = os.getenv('ENABLE_LLM_RECOMMENDATIONS', 'false').lower() == 'true'\n",
    "llm_provider = os.getenv('LLM_PROVIDER', 'not set')\n",
    "has_api_key = bool(os.getenv(f'{llm_provider.upper()}_API_KEY', ''))\n",
    "\n",
    "print(f\"LLM Enabled: {llm_enabled}\")\n",
    "print(f\"LLM Provider: {llm_provider}\")\n",
    "print(f\"API Key Configured: {has_api_key}\")\n",
    "\n",
    "if not llm_enabled:\n",
    "    print(\"\\n⚠️  LLM is disabled. Set ENABLE_LLM_RECOMMENDATIONS=true in .env to enable.\")\n",
    "elif not has_api_key:\n",
    "    print(f\"\\n⚠️  No API key found for {llm_provider}. Add it to your .env file.\")"
   ]
  },
  {
   "cell_type": "markdown",
   "metadata": {},
   "source": [
    "## 3. Create Patient Information"
   ]
  },
  {
   "cell_type": "code",
   "execution_count": null,
   "metadata": {},
   "outputs": [],
   "source": [
    "# Create patient information\n",
    "patient = PatientInfo(\n",
    "    name=\"Thunder\",\n",
    "    age=\"12 years\",\n",
    "    sample_number=\"001\",\n",
    "    performed_by=\"Dr. Smith\",\n",
    "    requested_by=\"Jane Doe (Owner)\"\n",
    ")\n",
    "\n",
    "print(f\"Patient: {patient.name}, {patient.age}\")\n",
    "print(f\"Sample: {patient.sample_number}\")"
   ]
  },
  {
   "cell_type": "markdown",
   "metadata": {},
   "source": [
    "## 4. Process Microbiome Data\n",
    "\n",
    "You can either:\n",
    "- Load real data from a CSV file\n",
    "- Use example data (shown below)"
   ]
  },
  {
   "cell_type": "code",
   "execution_count": null,
   "metadata": {},
   "outputs": [],
   "source": [
    "# Option 1: Load from CSV (uncomment to use)\n",
    "# processor = CSVProcessor()\n",
    "# microbiome_data = processor.process_csv('../data/sample_1.csv', 'barcode1')\n",
    "\n",
    "# Option 2: Use example data\n",
    "microbiome_data = MicrobiomeData(\n",
    "    species_list=[],  # Would be populated from CSV\n",
    "    phylum_distribution={\n",
    "        \"Bacillota\": 45.0,\n",
    "        \"Bacteroidota\": 2.5,  # Low - will trigger deficiency protocol\n",
    "        \"Pseudomonadota\": 28.0,\n",
    "        \"Actinomycetota\": 6.5,\n",
    "        \"Others\": 18.0\n",
    "    },\n",
    "    dysbiosis_index=38.5,\n",
    "    total_species_count=142,\n",
    "    dysbiosis_category=\"mild\",\n",
    "    clinical_interpretation=\"Mild dysbiosis detected\",\n",
    "    recommendations=[],\n",
    "    parasite_results=[],\n",
    "    microscopic_results=[],\n",
    "    biochemical_results=[]\n",
    ")\n",
    "\n",
    "print(\"Microbiome Analysis Summary:\")\n",
    "print(f\"  Dysbiosis Index: {microbiome_data.dysbiosis_index}\")\n",
    "print(f\"  Category: {microbiome_data.dysbiosis_category}\")\n",
    "print(f\"  Total Species: {microbiome_data.total_species_count}\")\n",
    "print(\"\\nPhylum Distribution:\")\n",
    "for phylum, percentage in microbiome_data.phylum_distribution.items():\n",
    "    print(f\"  {phylum}: {percentage:.1f}%\")"
   ]
  },
  {
   "cell_type": "markdown",
   "metadata": {},
   "source": [
    "## 5. Generate LLM Recommendations"
   ]
  },
  {
   "cell_type": "code",
   "execution_count": null,
   "metadata": {},
   "outputs": [],
   "source": [
    "# Create the recommendation engine\n",
    "engine = create_recommendation_engine()\n",
    "\n",
    "# Optional: Add clinical history\n",
    "clinical_history = {\n",
    "    \"recent_antibiotics\": False,\n",
    "    \"chronic_issues\": False,\n",
    "    \"symptoms\": \"Occasional loose stools, dull coat\"\n",
    "}\n",
    "\n",
    "# Generate recommendations\n",
    "print(\"🤖 Generating recommendations...\")\n",
    "results = engine.process_sample(\n",
    "    microbiome_data=microbiome_data,\n",
    "    patient_info=patient,\n",
    "    clinical_history=clinical_history\n",
    ")\n",
    "\n",
    "print(\"✅ Complete!\")"
   ]
  },
  {
   "cell_type": "markdown",
   "metadata": {},
   "source": [
    "## 6. View Results"
   ]
  },
  {
   "cell_type": "code",
   "execution_count": null,
   "metadata": {},
   "outputs": [],
   "source": [
    "# Display selected template\n",
    "print(\"=\" * 60)\n",
    "print(\"SELECTED CLINICAL TEMPLATE\")\n",
    "print(\"=\" * 60)\n",
    "print(f\"Scenario: {results['template_info']['scenario']}\")\n",
    "print(f\"Title: {results['template_info']['title']}\")\n",
    "print(f\"Confidence: {results['template_info']['confidence'] * 100:.0f}%\")\n",
    "print()"
   ]
  },
  {
   "cell_type": "code",
   "execution_count": null,
   "metadata": {},
   "outputs": [],
   "source": [
    "# Display LLM recommendations\n",
    "recs = results['recommendations']\n",
    "\n",
    "print(\"=\" * 60)\n",
    "print(\"PERSONALIZED RECOMMENDATIONS\")\n",
    "print(\"=\" * 60)\n",
    "\n",
    "if recs.get('llm_generated', False):\n",
    "    print(\"✨ Generated by LLM\" + (\" (cached)\" if recs.get('from_cache', False) else \"\"))\n",
    "else:\n",
    "    print(\"📋 Using template-based recommendations\")\n",
    "\n",
    "print(f\"\\nClinical Interpretation:\")\n",
    "print(f\"{recs['clinical_interpretation']}\")\n",
    "\n",
    "print(f\"\\nDietary Modifications:\")\n",
    "for i, mod in enumerate(recs['dietary_modifications'], 1):\n",
    "    print(f\"  {i}. {mod}\")\n",
    "\n",
    "print(f\"\\nSupplement Protocol:\")\n",
    "for i, supp in enumerate(recs['supplement_protocol'], 1):\n",
    "    print(f\"  {i}. {supp}\")\n",
    "\n",
    "print(f\"\\nManagement Changes:\")\n",
    "for i, change in enumerate(recs['management_changes'], 1):\n",
    "    print(f\"  {i}. {change}\")\n",
    "\n",
    "print(f\"\\nMonitoring: {recs['monitoring_plan']}\")\n",
    "print(f\"Follow-up: {recs['follow_up']}\")"
   ]
  },
  {
   "cell_type": "markdown",
   "metadata": {},
   "source": [
    "## 7. Try Different Scenarios\n",
    "\n",
    "Experiment with different microbiome profiles to see how recommendations change:"
   ]
  },
  {
   "cell_type": "code",
   "execution_count": null,
   "metadata": {},
   "outputs": [],
   "source": [
    "# Example: Severe dysbiosis case\n",
    "severe_case = MicrobiomeData(\n",
    "    species_list=[],\n",
    "    phylum_distribution={\n",
    "        \"Bacillota\": 82.0,  # Very high!\n",
    "        \"Bacteroidota\": 3.0,\n",
    "        \"Pseudomonadota\": 12.0,\n",
    "        \"Actinomycetota\": 1.0,\n",
    "        \"Others\": 2.0\n",
    "    },\n",
    "    dysbiosis_index=78.5,\n",
    "    total_species_count=45,  # Low diversity\n",
    "    dysbiosis_category=\"severe\",\n",
    "    clinical_interpretation=\"Severe dysbiosis\",\n",
    "    recommendations=[],\n",
    "    parasite_results=[],\n",
    "    microscopic_results=[],\n",
    "    biochemical_results=[]\n",
    ")\n",
    "\n",
    "# Generate recommendations for severe case\n",
    "severe_results = engine.process_sample(\n",
    "    microbiome_data=severe_case,\n",
    "    patient_info=patient\n",
    ")\n",
    "\n",
    "print(f\"Severe Case Template: {severe_results['template_info']['title']}\")\n",
    "print(f\"\\nFirst Recommendation: {severe_results['recommendations']['dietary_modifications'][0]}\")"
   ]
  },
  {
   "cell_type": "markdown",
   "metadata": {},
   "source": [
    "## 8. Integration with Report Generation\n",
    "\n",
    "Here's how to integrate LLM recommendations into your PDF reports:"
   ]
  },
  {
   "cell_type": "code",
   "execution_count": null,
   "metadata": {},
   "outputs": [],
   "source": [
    "from src.report_generator import ReportGenerator\n",
    "\n",
    "# The report generator can now use LLM recommendations\n",
    "# when ENABLE_LLM_RECOMMENDATIONS=true\n",
    "\n",
    "# Example integration (requires actual CSV file)\n",
    "# generator = ReportGenerator(language='en')\n",
    "# success = generator.generate_report(\n",
    "#     csv_path='../data/sample_1.csv',\n",
    "#     patient_info=patient,\n",
    "#     output_path='../reports/report_with_llm.pdf'\n",
    "# )\n",
    "\n",
    "print(\"To generate reports with LLM recommendations:\")\n",
    "print(\"1. Set ENABLE_LLM_RECOMMENDATIONS=true in .env\")\n",
    "print(\"2. Configure your preferred LLM provider and API key\")\n",
    "print(\"3. Run the report generator as usual\")\n",
    "print(\"\\nThe LLM will automatically enhance recommendations based on the microbiome data!\")"
   ]
  },
  {
   "cell_type": "markdown",
   "metadata": {},
   "source": [
    "## Summary\n",
    "\n",
    "This notebook demonstrated:\n",
    "\n",
    "1. **Easy Setup**: Simple configuration via `.env` file\n",
    "2. **Smart Template Selection**: Automatically selects from 8 clinical scenarios\n",
    "3. **LLM Enhancement**: Personalizes recommendations using AI\n",
    "4. **Fallback Support**: Works even without LLM (uses templates)\n",
    "5. **Multiple Providers**: Supports OpenAI, Anthropic, and Google Gemini\n",
    "\n",
    "### Next Steps\n",
    "\n",
    "- Configure your API keys in `.env`\n",
    "- Try different microbiome profiles\n",
    "- Generate full PDF reports with LLM recommendations\n",
    "- Monitor recommendation quality and adjust prompts as needed"
   ]
  }
 ],
 "metadata": {
  "kernelspec": {
   "display_name": "Python 3",
   "language": "python",
   "name": "python3"
  },
  "language_info": {
   "codemirror_mode": {
    "name": "ipython",
    "version": 3
   },
   "file_extension": ".py",
   "mimetype": "text/x-python",
   "name": "python",
   "nbconvert_exporter": "python",
   "pygments_lexer": "ipython3",
   "version": "3.11.0"
  }
 },
 "nbformat": 4,
 "nbformat_minor": 4
}