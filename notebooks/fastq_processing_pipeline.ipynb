{
 "cells": [
  {
   "cell_type": "markdown",
   "metadata": {},
   "source": [
    "# FASTQ Processing Pipeline for Equine Microbiome Analysis\n",
    "\n",
    "This notebook provides a simple interface for processing 16S rRNA FASTQ sequencing data and generating professional PDF reports for equine microbiome analysis.\n",
    "\n",
    "## Features\n",
    "- **Quality Control**: Analyze sequence quality with visual reports\n",
    "- **FASTQ to CSV**: Convert sequencing data to abundance tables\n",
    "- **PDF Reports**: Generate professional veterinary reports\n",
    "\n",
    "## Quick Start\n",
    "1. Install dependencies: `poetry install`\n",
    "2. Place your FASTQ files in an accessible directory\n",
    "3. Run the cells below"
   ]
  },
  {
   "cell_type": "code",
   "execution_count": 1,
   "metadata": {},
   "outputs": [],
   "source": [
    "# Import required modules\n",
    "import sys\n",
    "import os\n",
    "sys.path.append(os.path.dirname(os.path.dirname(os.path.abspath('__file__'))))\n",
    "\n",
    "from src.pipeline_integrator import MicrobiomePipelineIntegrator\n",
    "from src.data_models import PatientInfo\n",
    "import pandas as pd"
   ]
  },
  {
   "cell_type": "markdown",
   "metadata": {},
   "source": [
    "## 1. Single Sample Processing\n",
    "\n",
    "Process a single FASTQ file and generate a complete report."
   ]
  },
  {
   "cell_type": "code",
   "execution_count": 2,
   "metadata": {},
   "outputs": [
    {
     "name": "stdout",
     "output_type": "stream",
     "text": [
      "Ready to process! Uncomment the code above and provide your FASTQ file path.\n"
     ]
    }
   ],
   "source": [
    "# Initialize the pipeline\n",
    "pipeline = MicrobiomePipelineIntegrator(output_dir=\"pipeline_output\")\n",
    "\n",
    "# Define patient information\n",
    "patient_info = {\n",
    "    'name': 'Montana',          # Horse name\n",
    "    'age': '20 years',         # Horse age\n",
    "    'sample_number': '506',    # Lab sample number\n",
    "    'performed_by': 'Dr. Smith',\n",
    "    'requested_by': 'Dr. Johnson'\n",
    "}\n",
    "\n",
    "# Process the sample (update with your FASTQ file path)\n",
    "# results = pipeline.process_sample(\n",
    "#     fastq_file=\"path/to/your/sample.fastq.gz\",\n",
    "#     patient_info=patient_info,\n",
    "#     barcode_column=\"barcode59\",  # Column name in CSV\n",
    "#     language=\"en\"  # Options: \"en\", \"pl\", \"jp\"\n",
    "# )\n",
    "\n",
    "print(\"Ready to process! Uncomment the code above and provide your FASTQ file path.\")"
   ]
  },
  {
   "cell_type": "markdown",
   "metadata": {},
   "source": [
    "## 2. Batch Processing\n",
    "\n",
    "Process multiple samples using a manifest file."
   ]
  },
  {
   "cell_type": "code",
   "execution_count": 3,
   "metadata": {},
   "outputs": [
    {
     "name": "stdout",
     "output_type": "stream",
     "text": [
      "Created manifest template: sample_manifest.csv\n"
     ]
    },
    {
     "data": {
      "text/html": [
       "<div>\n",
       "<style scoped>\n",
       "    .dataframe tbody tr th:only-of-type {\n",
       "        vertical-align: middle;\n",
       "    }\n",
       "\n",
       "    .dataframe tbody tr th {\n",
       "        vertical-align: top;\n",
       "    }\n",
       "\n",
       "    .dataframe thead th {\n",
       "        text-align: right;\n",
       "    }\n",
       "</style>\n",
       "<table border=\"1\" class=\"dataframe\">\n",
       "  <thead>\n",
       "    <tr style=\"text-align: right;\">\n",
       "      <th></th>\n",
       "      <th>fastq_path</th>\n",
       "      <th>sample_name</th>\n",
       "      <th>patient_name</th>\n",
       "      <th>patient_age</th>\n",
       "      <th>barcode_num</th>\n",
       "      <th>performed_by</th>\n",
       "      <th>requested_by</th>\n",
       "      <th>language</th>\n",
       "    </tr>\n",
       "  </thead>\n",
       "  <tbody>\n",
       "    <tr>\n",
       "      <th>0</th>\n",
       "      <td>path/to/sample1.fastq.gz</td>\n",
       "      <td>S001</td>\n",
       "      <td>Thunder</td>\n",
       "      <td>15 years</td>\n",
       "      <td>59</td>\n",
       "      <td>Dr. Smith</td>\n",
       "      <td>Dr. Johnson</td>\n",
       "      <td>en</td>\n",
       "    </tr>\n",
       "    <tr>\n",
       "      <th>1</th>\n",
       "      <td>path/to/sample2.fastq.gz</td>\n",
       "      <td>S002</td>\n",
       "      <td>Lightning</td>\n",
       "      <td>10 years</td>\n",
       "      <td>60</td>\n",
       "      <td>Dr. Smith</td>\n",
       "      <td>Dr. Johnson</td>\n",
       "      <td>en</td>\n",
       "    </tr>\n",
       "    <tr>\n",
       "      <th>2</th>\n",
       "      <td>path/to/sample3.fastq.gz</td>\n",
       "      <td>S003</td>\n",
       "      <td>Storm</td>\n",
       "      <td>8 years</td>\n",
       "      <td>61</td>\n",
       "      <td>Dr. Jones</td>\n",
       "      <td>Dr. Williams</td>\n",
       "      <td>en</td>\n",
       "    </tr>\n",
       "  </tbody>\n",
       "</table>\n",
       "</div>"
      ],
      "text/plain": [
       "                 fastq_path sample_name patient_name patient_age  barcode_num  \\\n",
       "0  path/to/sample1.fastq.gz        S001      Thunder    15 years           59   \n",
       "1  path/to/sample2.fastq.gz        S002    Lightning    10 years           60   \n",
       "2  path/to/sample3.fastq.gz        S003        Storm     8 years           61   \n",
       "\n",
       "  performed_by  requested_by language  \n",
       "0    Dr. Smith   Dr. Johnson       en  \n",
       "1    Dr. Smith   Dr. Johnson       en  \n",
       "2    Dr. Jones  Dr. Williams       en  "
      ]
     },
     "execution_count": 3,
     "metadata": {},
     "output_type": "execute_result"
    }
   ],
   "source": [
    "# Create a manifest template\n",
    "MicrobiomePipelineIntegrator.create_manifest_template(\"sample_manifest.csv\")\n",
    "\n",
    "# View the template\n",
    "manifest = pd.read_csv(\"sample_manifest.csv\")\n",
    "manifest"
   ]
  },
  {
   "cell_type": "code",
   "execution_count": 4,
   "metadata": {},
   "outputs": [
    {
     "name": "stdout",
     "output_type": "stream",
     "text": [
      "Ready for batch processing! Update the manifest CSV and uncomment the code above.\n"
     ]
    }
   ],
   "source": [
    "# Process all samples in the manifest\n",
    "# Update the manifest CSV with your actual file paths and sample information\n",
    "\n",
    "# manifest = pd.read_csv(\"sample_manifest.csv\")\n",
    "# results = pipeline.batch_process(manifest)\n",
    "\n",
    "print(\"Ready for batch processing! Update the manifest CSV and uncomment the code above.\")"
   ]
  },
  {
   "cell_type": "markdown",
   "metadata": {},
   "source": [
    "## 3. Quality Control Only\n",
    "\n",
    "Run QC analysis on FASTQ files without full processing."
   ]
  },
  {
   "cell_type": "code",
   "execution_count": 5,
   "metadata": {},
   "outputs": [
    {
     "name": "stdout",
     "output_type": "stream",
     "text": [
      "QC module ready! Provide a FASTQ file path to analyze.\n"
     ]
    }
   ],
   "source": [
    "from src.fastq_qc import FASTQQualityControl\n",
    "\n",
    "# Run QC on a single file\n",
    "# qc = FASTQQualityControl(\"path/to/your/sample.fastq.gz\")\n",
    "# qc_results = qc.run_qc()\n",
    "# qc.print_summary()\n",
    "# qc.plot_quality_metrics(save_path=\"qc_report.png\")\n",
    "\n",
    "print(\"QC module ready! Provide a FASTQ file path to analyze.\")"
   ]
  },
  {
   "cell_type": "markdown",
   "metadata": {},
   "source": [
    "## 4. Custom FASTQ to CSV Conversion\n",
    "\n",
    "Convert FASTQ files to CSV format with custom parameters."
   ]
  },
  {
   "cell_type": "code",
   "execution_count": 6,
   "metadata": {},
   "outputs": [
    {
     "name": "stdout",
     "output_type": "stream",
     "text": [
      "Converter ready with customizable quality parameters!\n"
     ]
    }
   ],
   "source": [
    "from src.fastq_converter import FASTQtoCSVConverter\n",
    "\n",
    "# Create converter with custom quality thresholds\n",
    "converter = FASTQtoCSVConverter()\n",
    "\n",
    "# Process with custom parameters\n",
    "# df = converter.process_fastq_files(\n",
    "#     fastq_files=[\"sample1.fastq\", \"sample2.fastq\"],\n",
    "#     sample_names=[\"59\", \"60\"],\n",
    "#     min_quality=30,  # Q30 threshold (99.9% accuracy)\n",
    "#     min_length=250   # Minimum 250bp reads\n",
    "# )\n",
    "# \n",
    "# converter.save_to_csv(df, \"custom_abundance_table.csv\")\n",
    "\n",
    "print(\"Converter ready with customizable quality parameters!\")"
   ]
  },
  {
   "cell_type": "markdown",
   "metadata": {},
   "source": [
    "## 5. Integration with Existing CSV Data\n",
    "\n",
    "If you already have CSV abundance data, you can generate reports directly."
   ]
  },
  {
   "cell_type": "code",
   "execution_count": 7,
   "metadata": {},
   "outputs": [
    {
     "name": "stdout",
     "output_type": "stream",
     "text": [
      "Report generator ready! Provide CSV path to generate PDF.\n"
     ]
    }
   ],
   "source": [
    "from src.report_generator import ReportGenerator\n",
    "from src.data_models import PatientInfo\n",
    "\n",
    "# Create patient information\n",
    "patient = PatientInfo(\n",
    "    name='Thunder',\n",
    "    age='15 years',\n",
    "    sample_number='507',\n",
    "    performed_by='Dr. Smith',\n",
    "    requested_by='Dr. Johnson'\n",
    ")\n",
    "\n",
    "# Generate report from existing CSV\n",
    "generator = ReportGenerator(language='en')\n",
    "# success = generator.generate_report(\n",
    "#     csv_path='data/sample_1.csv',\n",
    "#     patient_info=patient,\n",
    "#     output_path='reports/thunder_report.pdf'\n",
    "# )\n",
    "\n",
    "print(\"Report generator ready! Provide CSV path to generate PDF.\")"
   ]
  },
  {
   "cell_type": "markdown",
   "metadata": {},
   "source": [
    "## Tips and Best Practices\n",
    "\n",
    "### Quality Thresholds\n",
    "- **Q20** (99% accuracy): Minimum acceptable quality\n",
    "- **Q30** (99.9% accuracy): Recommended for high-quality analysis\n",
    "\n",
    "### File Organization\n",
    "```\n",
    "pipeline_output/\n",
    "├── qc_reports/      # Quality control visualizations\n",
    "├── csv_files/       # Abundance tables\n",
    "├── pdf_reports/     # Final PDF reports\n",
    "└── batch_summary.txt\n",
    "```\n",
    "\n",
    "### Troubleshooting\n",
    "1. **Memory issues**: Process files in smaller batches\n",
    "2. **Slow processing**: Reduce `sample_size` in QC analysis\n",
    "3. **Missing dependencies**: Run `poetry install` in project root\n",
    "\n",
    "### Next Steps\n",
    "- For production use, integrate real taxonomy classifiers (SILVA, Greengenes)\n",
    "- Consider using DADA2 or VSEARCH for sequence clustering\n",
    "- Implement parallel processing for large datasets"
   ]
  },
  {
   "cell_type": "code",
   "execution_count": 8,
   "metadata": {},
   "outputs": [
    {
     "name": "stdout",
     "output_type": "stream",
     "text": [
      "Pipeline output structure:\n",
      "pipeline_output/\n",
      "  pdf_reports/\n",
      "  csv_files/\n",
      "  qc_reports/\n"
     ]
    }
   ],
   "source": [
    "# Check pipeline output structure\n",
    "import os\n",
    "from pathlib import Path\n",
    "\n",
    "output_dir = Path(\"pipeline_output\")\n",
    "if output_dir.exists():\n",
    "    print(\"Pipeline output structure:\")\n",
    "    for root, dirs, files in os.walk(output_dir):\n",
    "        level = root.replace(str(output_dir), '').count(os.sep)\n",
    "        indent = ' ' * 2 * level\n",
    "        print(f\"{indent}{os.path.basename(root)}/\")\n",
    "        sub_indent = ' ' * 2 * (level + 1)\n",
    "        for file in files:\n",
    "            print(f\"{sub_indent}{file}\")\n",
    "else:\n",
    "    print(\"No output directory yet. Run the pipeline to create it.\")"
   ]
  }
 ],
 "metadata": {
  "kernelspec": {
   "display_name": "equine-microbiome-reporter-GKwo-_Mf-py3.11",
   "language": "python",
   "name": "python3"
  },
  "language_info": {
   "codemirror_mode": {
    "name": "ipython",
    "version": 3
   },
   "file_extension": ".py",
   "mimetype": "text/x-python",
   "name": "python",
   "nbconvert_exporter": "python",
   "pygments_lexer": "ipython3",
   "version": "3.11.7"
  }
 },
 "nbformat": 4,
 "nbformat_minor": 4
}
