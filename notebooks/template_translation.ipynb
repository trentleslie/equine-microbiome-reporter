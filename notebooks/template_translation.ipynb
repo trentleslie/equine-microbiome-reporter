{
 "cells": [
  {
   "cell_type": "markdown",
   "metadata": {},
   "source": [
    "# Template Translation Notebook\n",
    "\n",
    "This notebook provides a simple interface for translating Equine Microbiome Reporter templates from English to Polish and Japanese.\n",
    "\n",
    "## Features\n",
    "- 🌐 Translates templates while preserving Jinja2 syntax\n",
    "- 🔬 Maintains scientific terminology accuracy (bacterial names, medical terms)\n",
    "- 📊 Creates Excel files for manual review by veterinary experts\n",
    "- 💾 Caches translations to save time and API costs\n",
    "- 🆓 Works with free translation service (no API key required)"
   ]
  },
  {
   "cell_type": "markdown",
   "metadata": {},
   "source": [
    "## 1. Setup Environment"
   ]
  },
  {
   "cell_type": "code",
   "execution_count": null,
   "metadata": {},
   "outputs": [],
   "source": [
    "# Import required libraries\n",
    "import os\n",
    "import sys\n",
    "from pathlib import Path\n",
    "from dotenv import load_dotenv\n",
    "\n",
    "# Add src directory to path\n",
    "project_root = Path(\"/home/trentleslie/Insync/projects/equine-microbiome-reporter\")\n",
    "sys.path.insert(0, str(project_root))\n",
    "\n",
    "# Load environment variables\n",
    "load_dotenv(project_root / \".env\")\n",
    "\n",
    "print(\"✅ Environment setup complete!\")"
   ]
  },
  {
   "cell_type": "markdown",
   "metadata": {},
   "source": [
    "## 2. Configure Translation Service\n",
    "\n",
    "Choose between:\n",
    "- **Free Service** (default): Uses googletrans library, no API key needed\n",
    "- **Google Cloud**: Professional translation with glossary support (requires API credentials)"
   ]
  },
  {
   "cell_type": "code",
   "execution_count": null,
   "metadata": {},
   "outputs": [],
   "source": [
    "from src.translation_service import get_translation_service\n",
    "from src.template_translator import TemplateTranslationWorkflow\n",
    "\n",
    "# Get configuration from environment or use defaults\n",
    "SERVICE_TYPE = os.getenv(\"TRANSLATION_SERVICE\", \"free\")\n",
    "TARGET_LANGUAGES = os.getenv(\"TRANSLATION_TARGET_LANGUAGES\", \"pl,ja\").split(\",\")\n",
    "CACHE_DIR = Path(os.getenv(\"TRANSLATION_CACHE_DIR\", \"translation_cache\"))\n",
    "\n",
    "print(f\"Translation Service: {SERVICE_TYPE}\")\n",
    "print(f\"Target Languages: {', '.join(TARGET_LANGUAGES)}\")\n",
    "print(f\"Cache Directory: {CACHE_DIR}\")\n",
    "\n",
    "# Initialize translation service\n",
    "if SERVICE_TYPE == \"google_cloud\":\n",
    "    # Google Cloud requires credentials\n",
    "    project_id = os.getenv(\"GOOGLE_CLOUD_PROJECT_ID\")\n",
    "    credentials_path = os.getenv(\"GOOGLE_CLOUD_CREDENTIALS_PATH\")\n",
    "    \n",
    "    if not project_id or not credentials_path:\n",
    "        print(\"⚠️  Google Cloud credentials not found in .env file\")\n",
    "        print(\"   Switching to free translation service...\")\n",
    "        SERVICE_TYPE = \"free\"\n",
    "    else:\n",
    "        translation_service = get_translation_service(\n",
    "            \"google_cloud\",\n",
    "            project_id=project_id,\n",
    "            credentials_path=credentials_path,\n",
    "            cache_dir=CACHE_DIR\n",
    "        )\n",
    "\n",
    "if SERVICE_TYPE == \"free\":\n",
    "    # Free service - no credentials needed\n",
    "    translation_service = get_translation_service(\"free\", cache_dir=CACHE_DIR)\n",
    "    print(\"\\n✅ Using free translation service (no API key required)\")\n",
    "    print(\"   Note: Free service may have rate limits and less accuracy\")"
   ]
  },
  {
   "cell_type": "markdown",
   "metadata": {},
   "source": [
    "## 3. View Scientific Glossary\n",
    "\n",
    "The system preserves important scientific and medical terms. Let's see what's protected:"
   ]
  },
  {
   "cell_type": "code",
   "execution_count": null,
   "metadata": {},
   "outputs": [],
   "source": [
    "import pandas as pd\n",
    "\n",
    "# Display glossary entries\n",
    "glossary = translation_service.glossary\n",
    "glossary_data = []\n",
    "\n",
    "for entry in glossary.entries[:20]:  # Show first 20 entries\n",
    "    glossary_data.append({\n",
    "        \"English\": entry.english,\n",
    "        \"Polish\": entry.polish,\n",
    "        \"Japanese\": entry.japanese,\n",
    "        \"Category\": entry.category,\n",
    "        \"Preserve Original\": \"Yes\" if entry.preserve_original else \"No\"\n",
    "    })\n",
    "\n",
    "df = pd.DataFrame(glossary_data)\n",
    "print(f\"Scientific Glossary (showing {len(df)} of {len(glossary.entries)} entries):\\n\")\n",
    "display(df)"
   ]
  },
  {
   "cell_type": "markdown",
   "metadata": {},
   "source": [
    "## 4. Test Translation\n",
    "\n",
    "Let's test the translation with a sample sentence containing medical terms:"
   ]
  },
  {
   "cell_type": "code",
   "execution_count": null,
   "metadata": {},
   "outputs": [],
   "source": [
    "# Test translation with scientific terms and Jinja2 syntax\n",
    "test_text = \"The patient {{ patient_name }} shows mild dysbiosis with elevated Actinomycetota levels.\"\n",
    "\n",
    "print(\"Original English:\")\n",
    "print(f\"  {test_text}\\n\")\n",
    "\n",
    "for lang in TARGET_LANGUAGES:\n",
    "    translated = translation_service.translate_text(test_text, lang)\n",
    "    lang_name = \"Polish\" if lang == \"pl\" else \"Japanese\"\n",
    "    print(f\"{lang_name} ({lang}):\")\n",
    "    print(f\"  {translated}\\n\")\n",
    "\n",
    "print(\"✅ Notice how:\")\n",
    "print(\"   - Jinja2 variables ({{ patient_name }}) are preserved\")\n",
    "print(\"   - Scientific terms like 'Actinomycetota' are kept in Latin\")\n",
    "print(\"   - Medical terms like 'dysbiosis' use proper translations\")"
   ]
  },
  {
   "cell_type": "markdown",
   "metadata": {},
   "source": [
    "## 5. Translate All Templates\n",
    "\n",
    "Now let's translate all the English templates to Polish and Japanese:"
   ]
  },
  {
   "cell_type": "code",
   "execution_count": null,
   "metadata": {},
   "outputs": [],
   "source": [
    "# Initialize workflow\n",
    "workflow = TemplateTranslationWorkflow(\n",
    "    project_root=project_root,\n",
    "    translation_service=translation_service,\n",
    "    target_languages=TARGET_LANGUAGES\n",
    ")\n",
    "\n",
    "# Check existing English templates\n",
    "en_templates = list((project_root / \"templates\" / \"en\").rglob(\"*.j2\"))\n",
    "print(f\"Found {len(en_templates)} English templates to translate\\n\")\n",
    "\n",
    "# Confirm before proceeding\n",
    "response = input(\"Proceed with translation? (yes/no): \")\n",
    "if response.lower() == \"yes\":\n",
    "    print(\"\\n🔄 Starting translation process...\")\n",
    "    results = workflow.translate_all_templates()\n",
    "    \n",
    "    print(\"\\n✅ Translation complete!\")\n",
    "    for lang, files in results.items():\n",
    "        lang_name = \"Polish\" if lang == \"pl\" else \"Japanese\"\n",
    "        print(f\"\\n{lang_name}: {len(files)} files translated\")\n",
    "else:\n",
    "    print(\"Translation cancelled.\")"
   ]
  },
  {
   "cell_type": "markdown",
   "metadata": {},
   "source": [
    "## 6. Validate Translations\n",
    "\n",
    "Check that all Jinja2 syntax was preserved correctly:"
   ]
  },
  {
   "cell_type": "code",
   "execution_count": null,
   "metadata": {},
   "outputs": [],
   "source": [
    "# Validate translations\n",
    "validation_results = workflow.validate_translations()\n",
    "\n",
    "print(\"\\n📋 Validation Summary:\")\n",
    "for lang, results in validation_results.items():\n",
    "    lang_name = \"Polish\" if lang == \"pl\" else \"Japanese\"\n",
    "    valid_count = sum(1 for status in results.values() if status == \"Valid\")\n",
    "    total_count = len(results)\n",
    "    \n",
    "    print(f\"\\n{lang_name} ({lang}):\")\n",
    "    print(f\"  Valid: {valid_count}/{total_count} files\")\n",
    "    \n",
    "    # Show any issues\n",
    "    issues = [(f, s) for f, s in results.items() if s != \"Valid\"]\n",
    "    if issues:\n",
    "        print(\"  Issues found:\")\n",
    "        for file, status in issues[:5]:  # Show first 5 issues\n",
    "            print(f\"    - {file}: {status}\")"
   ]
  },
  {
   "cell_type": "markdown",
   "metadata": {},
   "source": [
    "## 7. Create Review Spreadsheets\n",
    "\n",
    "Generate Excel files for veterinary experts to review and correct translations:"
   ]
  },
  {
   "cell_type": "code",
   "execution_count": null,
   "metadata": {},
   "outputs": [],
   "source": [
    "# Create review spreadsheets\n",
    "review_files = []\n",
    "\n",
    "for lang in TARGET_LANGUAGES:\n",
    "    lang_name = \"Polish\" if lang == \"pl\" else \"Japanese\"\n",
    "    print(f\"\\n📊 Creating {lang_name} review spreadsheet...\")\n",
    "    \n",
    "    review_file = workflow.create_review_spreadsheet(lang)\n",
    "    review_files.append(review_file)\n",
    "    \n",
    "    print(f\"   Saved to: {review_file.name}\")\n",
    "\n",
    "print(\"\\n✅ Review spreadsheets created!\")\n",
    "print(\"\\nNext steps:\")\n",
    "print(\"1. Send the Excel files to veterinary language experts\")\n",
    "print(\"2. They can review translations and add corrections in the 'Corrected' column\")\n",
    "print(\"3. Use the notebook to apply reviewed corrections back to templates\")"
   ]
  },
  {
   "cell_type": "markdown",
   "metadata": {},
   "source": [
    "## 8. Generate Translation Report"
   ]
  },
  {
   "cell_type": "code",
   "execution_count": null,
   "metadata": {},
   "outputs": [],
   "source": [
    "# Generate summary report\n",
    "report_file = workflow.generate_translation_report()\n",
    "print(f\"📄 Translation report saved to: {report_file.name}\")\n",
    "\n",
    "# Display report content\n",
    "with open(report_file, 'r') as f:\n",
    "    print(\"\\n\" + \"=\"*60)\n",
    "    print(f.read()[:1000] + \"...\" if len(f.read()) > 1000 else f.read())"
   ]
  },
  {
   "cell_type": "markdown",
   "metadata": {},
   "source": [
    "## 9. Apply Reviewed Corrections (After Expert Review)\n",
    "\n",
    "Once experts have reviewed and corrected translations in the Excel files, use this to apply changes:"
   ]
  },
  {
   "cell_type": "code",
   "execution_count": null,
   "metadata": {},
   "outputs": [],
   "source": [
    "# This cell should be run after receiving reviewed Excel files\n",
    "# Example:\n",
    "# reviewed_file = project_root / \"translation_review_pl_REVIEWED.xlsx\"\n",
    "# if reviewed_file.exists():\n",
    "#     corrections = workflow.apply_reviewed_translations(reviewed_file, \"pl\")\n",
    "#     print(f\"Applied {corrections} corrections to Polish templates\")\n",
    "\n",
    "print(\"💡 To apply corrections:\")\n",
    "print(\"1. Receive reviewed Excel files from experts\")\n",
    "print(\"2. Uncomment and update the code above with the file path\")\n",
    "print(\"3. Run to apply corrections back to the templates\")"
   ]
  },
  {
   "cell_type": "markdown",
   "metadata": {},
   "source": [
    "## 10. Test Generated Reports\n",
    "\n",
    "Finally, test that the translated templates work correctly:"
   ]
  },
  {
   "cell_type": "code",
   "execution_count": null,
   "metadata": {},
   "outputs": [],
   "source": [
    "# Test report generation with translated templates\n",
    "from src.report_generator import ReportGenerator\n",
    "from src.data_models import PatientInfo\n",
    "\n",
    "# Create test patient info\n",
    "patient = PatientInfo(\n",
    "    name='Montana', \n",
    "    age='20 years', \n",
    "    sample_number='506',\n",
    "    performed_by='Dr. Kowalski',  # Polish name for Polish report\n",
    "    requested_by='Dr. Nowak'\n",
    ")\n",
    "\n",
    "# Test each language\n",
    "for lang in ['en'] + TARGET_LANGUAGES:\n",
    "    try:\n",
    "        generator = ReportGenerator(language=lang)\n",
    "        lang_name = {\"en\": \"English\", \"pl\": \"Polish\", \"ja\": \"Japanese\"}[lang]\n",
    "        print(f\"\\n🧪 Testing {lang_name} report generation...\")\n",
    "        \n",
    "        # Check if templates exist\n",
    "        templates_exist = (project_root / \"templates\" / lang / \"report_full.j2\").exists()\n",
    "        if templates_exist:\n",
    "            print(f\"   ✅ Templates found for {lang_name}\")\n",
    "        else:\n",
    "            print(f\"   ❌ Templates not found for {lang_name}\")\n",
    "    except Exception as e:\n",
    "        print(f\"   ❌ Error: {e}\")"
   ]
  },
  {
   "cell_type": "markdown",
   "metadata": {},
   "source": [
    "## Summary\n",
    "\n",
    "### What We've Accomplished:\n",
    "1. ✅ Set up translation service (free or Google Cloud)\n",
    "2. ✅ Configured scientific glossary for accurate terminology\n",
    "3. ✅ Translated all templates while preserving Jinja2 syntax\n",
    "4. ✅ Created Excel files for expert review\n",
    "5. ✅ Generated validation report\n",
    "\n",
    "### API Costs:\n",
    "- **Free Service**: No cost, but may have rate limits\n",
    "- **Google Cloud**: ~$20 per million characters (with caching to reduce costs)\n",
    "\n",
    "### Next Steps:\n",
    "1. Have veterinary experts review translations\n",
    "2. Apply corrections from reviewed Excel files\n",
    "3. Test report generation in all languages\n",
    "4. Deploy multi-language support to production"
   ]
  }
 ],
 "metadata": {
  "kernelspec": {
   "display_name": "Python 3",
   "language": "python",
   "name": "python3"
  },
  "language_info": {
   "codemirror_mode": {
    "name": "ipython",
    "version": 3
   },
   "file_extension": ".py",
   "mimetype": "text/x-python",
   "name": "python",
   "nbconvert_exporter": "python",
   "pygments_lexer": "ipython3",
   "version": "3.11.0"
  }
 },
 "nbformat": 4,
 "nbformat_minor": 4
}