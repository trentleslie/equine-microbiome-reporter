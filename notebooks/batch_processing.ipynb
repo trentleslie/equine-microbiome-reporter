{
 "cells": [
  {
   "cell_type": "markdown",
   "metadata": {},
   "source": [
    "# Batch Processing for Equine Microbiome Reports\n",
    "\n",
    "This notebook provides a simple interface for batch processing multiple microbiome CSV files to generate PDF reports.\n",
    "\n",
    "## Features\n",
    "- 📁 **Multi-file Processing**: Process all CSV files in the data directory\n",
    "- 📊 **Progress Tracking**: Real-time progress updates with visual feedback\n",
    "- ✅ **Quality Control**: Automatic validation of input files\n",
    "- 📄 **PDF Generation**: Professional reports using the Jinja2 template system\n",
    "- 📈 **Summary Reports**: Comprehensive statistics and quality metrics"
   ]
  },
  {
   "cell_type": "markdown",
   "metadata": {},
   "source": [
    "## 1. Setup and Import"
   ]
  },
  {
   "cell_type": "code",
   "execution_count": null,
   "metadata": {},
   "outputs": [],
   "source": [
    "# Import required modules\n",
    "import sys\n",
    "from pathlib import Path\n",
    "\n",
    "# Add parent directory to path\n",
    "sys.path.insert(0, str(Path.cwd().parent))\n",
    "\n",
    "# Import project modules\n",
    "from src.batch_processor import BatchProcessor, BatchConfig\n",
    "from src.progress_tracker import NotebookProgressTracker, generate_quality_report, create_manifest_template\n",
    "import ipywidgets as widgets\n",
    "from IPython.display import display, HTML\n",
    "\n",
    "print(\"✅ Setup complete! Ready for batch processing.\")"
   ]
  },
  {
   "cell_type": "markdown",
   "metadata": {},
   "source": [
    "## 2. Configure Batch Processing\n",
    "\n",
    "Adjust these settings based on your needs:"
   ]
  },
  {
   "cell_type": "code",
   "execution_count": null,
   "metadata": {},
   "outputs": [],
   "source": [
    "# Configuration\n",
    "config = BatchConfig(\n",
    "    data_dir='../data',\n",
    "    reports_dir='../reports/batch_output',\n",
    "    language='en',  # Options: 'en', 'pl', 'jp'\n",
    "    parallel_processing=True,\n",
    "    max_workers=4\n",
    ")\n",
    "\n",
    "# Ensure output directory exists\n",
    "config.ensure_directories()\n",
    "\n",
    "# Display configuration\n",
    "print(\"📋 Current Configuration:\")\n",
    "print(f\"  • Data directory: {config.data_dir.absolute()}\")\n",
    "print(f\"  • Output directory: {config.reports_dir.absolute()}\")\n",
    "print(f\"  • Language: {config.language}\")\n",
    "print(f\"  • Parallel processing: {'Enabled' if config.parallel_processing else 'Disabled'}\")\n",
    "print(f\"  • Max workers: {config.max_workers}\")"
   ]
  },
  {
   "cell_type": "markdown",
   "metadata": {},
   "source": [
    "## 3. Check Available Files"
   ]
  },
  {
   "cell_type": "code",
   "execution_count": null,
   "metadata": {},
   "outputs": [],
   "source": [
    "# List available CSV files\n",
    "csv_files = list(config.data_dir.glob(\"*.csv\"))\n",
    "\n",
    "if not csv_files:\n",
    "    print(\"❌ No CSV files found in the data directory!\")\n",
    "    print(f\"   Please add CSV files to: {config.data_dir.absolute()}\")\n",
    "else:\n",
    "    print(f\"📂 Found {len(csv_files)} CSV files:\")\n",
    "    for i, csv_file in enumerate(csv_files, 1):\n",
    "        size_kb = csv_file.stat().st_size / 1024\n",
    "        print(f\"   {i}. {csv_file.name} ({size_kb:.1f} KB)\")"
   ]
  },
  {
   "cell_type": "markdown",
   "metadata": {},
   "source": [
    "## 4. Run Batch Processing\n",
    "\n",
    "Click the button below to start processing all CSV files:"
   ]
  },
  {
   "cell_type": "code",
   "execution_count": null,
   "metadata": {},
   "outputs": [],
   "source": [
    "# Create interactive controls\n",
    "validate_checkbox = widgets.Checkbox(\n",
    "    value=True,\n",
    "    description='Enable quality validation',\n",
    "    style={'description_width': 'initial'}\n",
    ")\n",
    "\n",
    "language_dropdown = widgets.Dropdown(\n",
    "    options=[('English', 'en'), ('Polish', 'pl'), ('Japanese', 'jp')],\n",
    "    value='en',\n",
    "    description='Report Language:',\n",
    "    style={'description_width': 'initial'}\n",
    ")\n",
    "\n",
    "start_button = widgets.Button(\n",
    "    description='Start Batch Processing',\n",
    "    button_style='primary',\n",
    "    icon='play'\n",
    ")\n",
    "\n",
    "output_area = widgets.Output()\n",
    "\n",
    "def on_start_clicked(b):\n",
    "    with output_area:\n",
    "        output_area.clear_output()\n",
    "        \n",
    "        if not csv_files:\n",
    "            print(\"❌ No CSV files to process!\")\n",
    "            return\n",
    "            \n",
    "        # Update configuration\n",
    "        config.language = language_dropdown.value\n",
    "        \n",
    "        # Create processor and tracker\n",
    "        processor = BatchProcessor(config)\n",
    "        tracker = NotebookProgressTracker()\n",
    "        \n",
    "        print(f\"🚀 Starting batch processing of {len(csv_files)} files...\")\n",
    "        print(f\"   Language: {config.language}\")\n",
    "        print(f\"   Validation: {'Enabled' if validate_checkbox.value else 'Disabled'}\")\n",
    "        print(\"\\n\" + \"=\"*50 + \"\\n\")\n",
    "        \n",
    "        # Create progress display\n",
    "        progress_callback = tracker.create_progress_display(\n",
    "            total=len(csv_files),\n",
    "            description=\"Processing\"\n",
    "        )\n",
    "        \n",
    "        # Process files\n",
    "        results = processor.process_directory(\n",
    "            progress_callback=progress_callback,\n",
    "            validate=validate_checkbox.value\n",
    "        )\n",
    "        \n",
    "        # Display summary\n",
    "        print(\"\\n\" + \"=\"*50)\n",
    "        print(\"✅ BATCH PROCESSING COMPLETE!\")\n",
    "        print(\"=\"*50 + \"\\n\")\n",
    "        \n",
    "        summary = processor.generate_summary_report()\n",
    "        print(f\"📊 Summary:\")\n",
    "        print(f\"   • Total files: {summary['total_files']}\")\n",
    "        print(f\"   • Successful: {summary['successful']} ✅\")\n",
    "        print(f\"   • Failed: {summary['failed']} ❌\")\n",
    "        print(f\"   • Success rate: {summary['success_rate']:.1f}%\")\n",
    "        print(f\"   • Total time: {summary['total_processing_time']:.1f} seconds\")\n",
    "        print(f\"   • Average time per file: {summary['average_processing_time']:.1f} seconds\")\n",
    "        \n",
    "        # Show failed files if any\n",
    "        if summary['failed'] > 0:\n",
    "            print(\"\\n❌ Failed files:\")\n",
    "            for result in results:\n",
    "                if not result['success']:\n",
    "                    print(f\"   • {Path(result['csv_file']).name}: {result['message']}\")\n",
    "        \n",
    "        # Save results\n",
    "        report_path = processor.save_results_to_csv()\n",
    "        print(f\"\\n📄 Detailed report saved to: {report_path}\")\n",
    "\n",
    "start_button.on_click(on_start_clicked)\n",
    "\n",
    "# Display controls\n",
    "display(widgets.VBox([\n",
    "    widgets.HBox([language_dropdown, validate_checkbox]),\n",
    "    start_button,\n",
    "    output_area\n",
    "]))"
   ]
  },
  {
   "cell_type": "markdown",
   "metadata": {},
   "source": [
    "## 5. Quality Control Report\n",
    "\n",
    "Generate a detailed quality control report for the processed files:"
   ]
  },
  {
   "cell_type": "code",
   "execution_count": null,
   "metadata": {},
   "outputs": [],
   "source": [
    "# Check if we have results to analyze\n",
    "try:\n",
    "    if 'processor' in locals() and processor.results:\n",
    "        print(\"📊 Generating Quality Control Report...\\n\")\n",
    "        \n",
    "        # Generate quality report\n",
    "        df = generate_quality_report(processor.results)\n",
    "        \n",
    "        # Display summary statistics\n",
    "        print(\"Summary Statistics:\")\n",
    "        print(f\"• Files processed: {len(df)}\")\n",
    "        print(f\"• Success rate: {df['success'].mean()*100:.1f}%\")\n",
    "        \n",
    "        if 'validation_passed' in df.columns:\n",
    "            print(f\"• Validation pass rate: {df['validation_passed'].mean()*100:.1f}%\")\n",
    "        \n",
    "        if 'processing_time' in df.columns:\n",
    "            print(f\"\\nProcessing Time Statistics:\")\n",
    "            print(f\"• Mean: {df['processing_time'].mean():.2f} seconds\")\n",
    "            print(f\"• Min: {df['processing_time'].min():.2f} seconds\")\n",
    "            print(f\"• Max: {df['processing_time'].max():.2f} seconds\")\n",
    "        \n",
    "        # Show first few results\n",
    "        print(\"\\nFirst 5 results:\")\n",
    "        display(df[['csv_file', 'patient_name', 'success', 'processing_time']].head())\n",
    "        \n",
    "    else:\n",
    "        print(\"ℹ️ No processing results available yet.\")\n",
    "        print(\"   Run the batch processing in section 4 first!\")\n",
    "except NameError:\n",
    "    print(\"ℹ️ No processing results available yet.\")\n",
    "    print(\"   Run the batch processing in section 4 first!\")"
   ]
  },
  {
   "cell_type": "markdown",
   "metadata": {},
   "source": [
    "## 6. Process with Custom Patient Information (Optional)\n",
    "\n",
    "If you need to specify custom patient information for each file, you can use a manifest file:"
   ]
  },
  {
   "cell_type": "code",
   "execution_count": null,
   "metadata": {},
   "outputs": [],
   "source": [
    "# Create a manifest template\n",
    "manifest_path = Path('../manifest_template.csv')\n",
    "\n",
    "# Get list of CSV files for manifest\n",
    "csv_filenames = [f.name for f in csv_files] if csv_files else ['sample_1.csv', 'sample_2.csv']\n",
    "\n",
    "# Create template\n",
    "manifest_df = create_manifest_template(str(manifest_path), csv_filenames[:5])  # Limit to 5 for demo\n",
    "\n",
    "print(\"📄 Manifest template created!\")\n",
    "print(f\"   Location: {manifest_path.absolute()}\")\n",
    "print(\"\\n📋 Template structure:\")\n",
    "display(manifest_df)"
   ]
  },
  {
   "cell_type": "code",
   "execution_count": null,
   "metadata": {},
   "outputs": [],
   "source": [
    "# Process using manifest (uncomment to use)\n",
    "\"\"\"\n",
    "# Edit the manifest_template.csv file with your patient information, then run:\n",
    "\n",
    "processor_manifest = BatchProcessor(config)\n",
    "tracker_manifest = NotebookProgressTracker()\n",
    "\n",
    "progress_callback = tracker_manifest.create_progress_display(\n",
    "    total=len(manifest_df),\n",
    "    description=\"Processing from manifest\"\n",
    ")\n",
    "\n",
    "results = processor_manifest.process_from_manifest(\n",
    "    manifest_path,\n",
    "    progress_callback=progress_callback\n",
    ")\n",
    "\n",
    "print(\"\\n✅ Manifest processing complete!\")\n",
    "\"\"\"\n",
    "\n",
    "print(\"ℹ️ To use the manifest:\")\n",
    "print(\"   1. Edit manifest_template.csv with your patient information\")\n",
    "print(\"   2. Uncomment and run the code above\")"
   ]
  },
  {
   "cell_type": "markdown",
   "metadata": {},
   "source": [
    "## 7. View Generated Reports"
   ]
  },
  {
   "cell_type": "code",
   "execution_count": null,
   "metadata": {},
   "outputs": [],
   "source": [
    "# List all generated reports\n",
    "if config.reports_dir.exists():\n",
    "    pdf_files = sorted(config.reports_dir.glob(\"*.pdf\"))\n",
    "    \n",
    "    if pdf_files:\n",
    "        print(f\"📄 Generated Reports ({len(pdf_files)} files):\")\n",
    "        print(f\"   Location: {config.reports_dir.absolute()}\\n\")\n",
    "        \n",
    "        for pdf in pdf_files[-10:]:  # Show last 10\n",
    "            size_mb = pdf.stat().st_size / (1024 * 1024)\n",
    "            print(f\"   • {pdf.name} ({size_mb:.2f} MB)\")\n",
    "            \n",
    "        if len(pdf_files) > 10:\n",
    "            print(f\"\\n   ... and {len(pdf_files) - 10} more files\")\n",
    "    else:\n",
    "        print(\"ℹ️ No PDF reports generated yet.\")\n",
    "else:\n",
    "    print(\"ℹ️ Reports directory does not exist yet.\")"
   ]
  },
  {
   "cell_type": "markdown",
   "metadata": {},
   "source": [
    "## Tips and Troubleshooting\n",
    "\n",
    "### 🔧 Common Issues:\n",
    "\n",
    "1. **No CSV files found**: Make sure your CSV files are in the `data/` directory\n",
    "2. **Validation failures**: Check that your CSV files have the required columns and phyla\n",
    "3. **Memory issues**: Reduce `max_workers` or disable parallel processing\n",
    "\n",
    "### 📝 CSV File Requirements:\n",
    "\n",
    "- Must contain columns: `species`, `phylum`, `genus`, and `barcode[N]` columns\n",
    "- Should have at least 10 different species\n",
    "- Required phyla: Bacillota, Bacteroidota, Pseudomonadota\n",
    "\n",
    "### 🚀 Performance Tips:\n",
    "\n",
    "- Enable parallel processing for faster batch processing\n",
    "- Adjust `max_workers` based on your system's CPU cores\n",
    "- Use validation only for new datasets"
   ]
  }
 ],
 "metadata": {
  "kernelspec": {
   "display_name": "Python 3",
   "language": "python",
   "name": "python3"
  },
  "language_info": {
   "codemirror_mode": {
    "name": "ipython",
    "version": 3
   },
   "file_extension": ".py",
   "mimetype": "text/x-python",
   "name": "python",
   "nbconvert_exporter": "python",
   "pygments_lexer": "ipython3",
   "version": "3.11.0"
  }
 },
 "nbformat": 4,
 "nbformat_minor": 4
}